{
 "cells": [
  {
   "cell_type": "code",
   "execution_count": 1,
   "metadata": {},
   "outputs": [],
   "source": [
    "# Dependencies\n",
    "import requests\n",
    "from bs4 import BeautifulSoup \n",
    "from time import sleep\n",
    "import pandas as pd\n",
    "from splinter import Browser\n",
    "from splinter.exceptions import ElementDoesNotExist\n",
    "from selenium.webdriver import ActionChains\n",
    "from webdriver_manager.chrome import ChromeDriverManager"
   ]
  },
  {
   "cell_type": "code",
   "execution_count": 2,
   "metadata": {},
   "outputs": [],
   "source": [
    "#trying to scrapre price for multiple TVs at once.\n",
    "#url to be scrapped\n",
    "url = \"https://www.harveynorman.com.au/tv-blu-ray-home-theatre/tvs-by-screen-size/all-tvs\""
   ]
  },
  {
   "cell_type": "code",
   "execution_count": 3,
   "metadata": {},
   "outputs": [],
   "source": [
    "#retreice page with the requests module\n",
    "response = requests.get(url)"
   ]
  },
  {
   "cell_type": "code",
   "execution_count": 4,
   "metadata": {
    "scrolled": true
   },
   "outputs": [
    {
     "name": "stderr",
     "output_type": "stream",
     "text": [
      "[WDM] - Current google-chrome version is 84.0.4147\n",
      "[WDM] - Get LATEST driver version for 84.0.4147\n"
     ]
    },
    {
     "name": "stdout",
     "output_type": "stream",
     "text": [
      " \n"
     ]
    },
    {
     "name": "stderr",
     "output_type": "stream",
     "text": [
      "[WDM] - Driver [C:\\Users\\racha\\.wdm\\drivers\\chromedriver\\win32\\84.0.4147.30\\chromedriver.exe] found in cache\n"
     ]
    }
   ],
   "source": [
    "executable_path = {'executable_path': ChromeDriverManager().install()}\n",
    "browser = Browser('chrome', **executable_path, headless=False)\n",
    "\n",
    "\n",
    "browser.visit(url)"
   ]
  },
  {
   "cell_type": "markdown",
   "metadata": {},
   "source": [
    "Searching for things\n"
   ]
  },
  {
   "cell_type": "code",
   "execution_count": 5,
   "metadata": {},
   "outputs": [],
   "source": [
    "# Create BeautifulSoup object; parse with 'html.parser'\n",
    "soup = BeautifulSoup(response.text, 'html.parser')\n",
    "\n"
   ]
  },
  {
   "cell_type": "code",
   "execution_count": null,
   "metadata": {},
   "outputs": [],
   "source": []
  },
  {
   "cell_type": "code",
   "execution_count": 6,
   "metadata": {},
   "outputs": [],
   "source": [
    "#create link list\n",
    "#inspired from https://stackoverflow.com/questions/8616928/python-getting-all-links-from-a-div-having-a-class\n",
    "\n",
    "link_list = []\n",
    "for x in range(1, 4):\n",
    "    \n",
    "    data = soup.find_all('div', attrs = {'class': 'info'})\n",
    "    for div in data:\n",
    "        links = div.find_all('a')\n",
    "        for a in links:\n",
    "            z = a['href']\n",
    "            link_list.append(z)\n",
    "    sleep(1)\n",
    "    browser.links.find_by_partial_text('Next')"
   ]
  },
  {
   "cell_type": "code",
   "execution_count": 7,
   "metadata": {},
   "outputs": [
    {
     "data": {
      "text/plain": [
       "138"
      ]
     },
     "execution_count": 7,
     "metadata": {},
     "output_type": "execute_result"
    }
   ],
   "source": [
    "len(link_list)"
   ]
  },
  {
   "cell_type": "code",
   "execution_count": 9,
   "metadata": {},
   "outputs": [
    {
     "data": {
      "text/plain": [
       "['https://www.harveynorman.com.au/disposable-3-ply-face-masks-50-pack-1.html',\n",
       " 'https://www.harveynorman.com.au/jbl-t600btnc-wireless-on-ear-headphones-black.html',\n",
       " 'https://www.harveynorman.com.au/noirot-2400w-spot-plus-electric-panel-heater-with-timer.html',\n",
       " 'https://www.harveynorman.com.au/dyson-cinetic-big-ball-animal-vacuum-cleaner.html',\n",
       " 'https://www.harveynorman.com.au/beurer-fwm-45-massage-foot-warmer.html',\n",
       " 'https://www.harveynorman.com.au/homedics-ellia-refresh-ultrasonic-aroma-diffuser-ceramic-grey.html',\n",
       " 'https://www.harveynorman.com.au/sony-65-inch-x95h-4k-uhd-led-lcd-smart-tv.html',\n",
       " 'https://www.harveynorman.com.au/hisense-65-inch-s8-4k-led-lcd-smart-tv.html',\n",
       " 'https://www.harveynorman.com.au/lg-55-inch-nano80-4k-nanocell-ai-thinq-smart-tv.html',\n",
       " 'https://www.harveynorman.com.au/hisense-75-inch-s8-4k-led-lcd-smart-tv.html',\n",
       " 'https://www.harveynorman.com.au/tcl-65-inch-c715-4k-qled-smart-tv.html',\n",
       " 'https://www.harveynorman.com.au/samsung-75-inch-q60t-4k-qled-smart-tv.html',\n",
       " 'https://www.harveynorman.com.au/sony-55-inch-x80h-4k-uhd-led-lcd-smart-tv.html',\n",
       " 'https://www.harveynorman.com.au/samsung-65-inch-the-frame-ls03t-4k-qled-smart-tv.html',\n",
       " 'https://www.harveynorman.com.au/samsung-82-inch-q800t-8k-qled-smart-tv.html',\n",
       " 'https://www.harveynorman.com.au/samsung-75-inch-q800t-8k-qled-smart-tv.html',\n",
       " 'https://www.harveynorman.com.au/samsung-65-inch-q800t-8k-qled-smart-tv.html',\n",
       " 'https://www.harveynorman.com.au/samsung-75-inch-q95t-4k-qled-smart-tv.html',\n",
       " 'https://www.harveynorman.com.au/samsung-55-inch-q95t-4k-qled-smart-tv.html',\n",
       " 'https://www.harveynorman.com.au/samsung-75-inch-q80t-4k-qled-smart-tv.html',\n",
       " 'https://www.harveynorman.com.au/samsung-65-inch-q80t-4k-qled-smart-tv.html',\n",
       " 'https://www.harveynorman.com.au/samsung-55-inch-q80t-4k-qled-smart-tv.html',\n",
       " 'https://www.harveynorman.com.au/samsung-85-inch-q70t-4k-qled-smart-tv.html',\n",
       " 'https://www.harveynorman.com.au/samsung-75-inch-q70t-4k-qled-smart-tv.html',\n",
       " 'https://www.harveynorman.com.au/samsung-65-inch-q70t-4k-qled-smart-tv.html',\n",
       " 'https://www.harveynorman.com.au/lg-55-inch-cx-cinema-series-4k-uhd-self-lit-oled-smart-tv-ai-thinq.html',\n",
       " 'https://www.harveynorman.com.au/lg-65-inch-cx-cinema-series-4k-uhd-self-lit-oled-smart-tv-ai-thinq.html',\n",
       " 'https://www.harveynorman.com.au/lg-77-inch-cx-cinema-series-4k-uhd-self-lit-oled-smart-tv-ai-thinq.html',\n",
       " 'https://www.harveynorman.com.au/lg-65-inch-nano99-8k-nanocell-ai-thinq-smart-tv.html',\n",
       " 'https://www.harveynorman.com.au/lg-75-inch-nano99-8k-nanocell-ai-thinq-smart-tv.html',\n",
       " 'https://www.harveynorman.com.au/65-nanocell-100-smart-tv.html',\n",
       " 'https://www.harveynorman.com.au/lg-65-inch-nano86-4k-nanocell-ai-thinq-smart-tv.html',\n",
       " 'https://www.harveynorman.com.au/lg-65-inch-nano91-4k-nanocell-ai-thinq-smart-tv.html',\n",
       " 'https://www.harveynorman.com.au/lg-75-inch-nano91-4k-nanocell-ai-thinq-smart-tv.html',\n",
       " 'https://www.harveynorman.com.au/lg-65-inch-nano95-8k-nanocell-ai-thinq-smart-tv.html',\n",
       " 'https://www.harveynorman.com.au/lg-75-inch-nano95-8k-nanocell-ai-thinq-smart-tv.html',\n",
       " 'https://www.harveynorman.com.au/sony-75-inch-x95h-4k-uhd-led-lcd-smart-tv.html',\n",
       " 'https://www.harveynorman.com.au/hisense-75-inch-q8-4k-uled-smart-tv.html',\n",
       " 'https://www.harveynorman.com.au/hisense-65-inch-q8-4k-uled-smart-tv.html',\n",
       " 'https://www.harveynorman.com.au/hisense-55-inch-q8-4k-uled-smart-tv.html',\n",
       " 'https://www.harveynorman.com.au/samsung-75-inch-the-frame-ls03t-4k-qled-smart-tv.html',\n",
       " 'https://www.harveynorman.com.au/samsung-55-inch-the-frame-ls03t-4k-qled-smart-tv.html',\n",
       " 'https://www.harveynorman.com.au/samsung-85-inch-q950t-8k-qled-smart-tv.html',\n",
       " 'https://www.harveynorman.com.au/samsung-75-inch-q950t-8k-qled-smart-tv.html',\n",
       " 'https://www.harveynorman.com.au/samsung-65-inch-q950t-8k-qled-smart-tv.html',\n",
       " 'https://www.harveynorman.com.au/tcl-100-inch-p715-quhd-led-lcd-smart-tv.html',\n",
       " 'https://www.harveynorman.com.au/disposable-3-ply-face-masks-50-pack-1.html',\n",
       " 'https://www.harveynorman.com.au/jbl-t600btnc-wireless-on-ear-headphones-black.html',\n",
       " 'https://www.harveynorman.com.au/noirot-2400w-spot-plus-electric-panel-heater-with-timer.html',\n",
       " 'https://www.harveynorman.com.au/dyson-cinetic-big-ball-animal-vacuum-cleaner.html',\n",
       " 'https://www.harveynorman.com.au/beurer-fwm-45-massage-foot-warmer.html',\n",
       " 'https://www.harveynorman.com.au/homedics-ellia-refresh-ultrasonic-aroma-diffuser-ceramic-grey.html',\n",
       " 'https://www.harveynorman.com.au/sony-65-inch-x95h-4k-uhd-led-lcd-smart-tv.html',\n",
       " 'https://www.harveynorman.com.au/hisense-65-inch-s8-4k-led-lcd-smart-tv.html',\n",
       " 'https://www.harveynorman.com.au/lg-55-inch-nano80-4k-nanocell-ai-thinq-smart-tv.html',\n",
       " 'https://www.harveynorman.com.au/hisense-75-inch-s8-4k-led-lcd-smart-tv.html',\n",
       " 'https://www.harveynorman.com.au/tcl-65-inch-c715-4k-qled-smart-tv.html',\n",
       " 'https://www.harveynorman.com.au/samsung-75-inch-q60t-4k-qled-smart-tv.html',\n",
       " 'https://www.harveynorman.com.au/sony-55-inch-x80h-4k-uhd-led-lcd-smart-tv.html',\n",
       " 'https://www.harveynorman.com.au/samsung-65-inch-the-frame-ls03t-4k-qled-smart-tv.html',\n",
       " 'https://www.harveynorman.com.au/samsung-82-inch-q800t-8k-qled-smart-tv.html',\n",
       " 'https://www.harveynorman.com.au/samsung-75-inch-q800t-8k-qled-smart-tv.html',\n",
       " 'https://www.harveynorman.com.au/samsung-65-inch-q800t-8k-qled-smart-tv.html',\n",
       " 'https://www.harveynorman.com.au/samsung-75-inch-q95t-4k-qled-smart-tv.html',\n",
       " 'https://www.harveynorman.com.au/samsung-55-inch-q95t-4k-qled-smart-tv.html',\n",
       " 'https://www.harveynorman.com.au/samsung-75-inch-q80t-4k-qled-smart-tv.html',\n",
       " 'https://www.harveynorman.com.au/samsung-65-inch-q80t-4k-qled-smart-tv.html',\n",
       " 'https://www.harveynorman.com.au/samsung-55-inch-q80t-4k-qled-smart-tv.html',\n",
       " 'https://www.harveynorman.com.au/samsung-85-inch-q70t-4k-qled-smart-tv.html',\n",
       " 'https://www.harveynorman.com.au/samsung-75-inch-q70t-4k-qled-smart-tv.html',\n",
       " 'https://www.harveynorman.com.au/samsung-65-inch-q70t-4k-qled-smart-tv.html',\n",
       " 'https://www.harveynorman.com.au/lg-55-inch-cx-cinema-series-4k-uhd-self-lit-oled-smart-tv-ai-thinq.html',\n",
       " 'https://www.harveynorman.com.au/lg-65-inch-cx-cinema-series-4k-uhd-self-lit-oled-smart-tv-ai-thinq.html',\n",
       " 'https://www.harveynorman.com.au/lg-77-inch-cx-cinema-series-4k-uhd-self-lit-oled-smart-tv-ai-thinq.html',\n",
       " 'https://www.harveynorman.com.au/lg-65-inch-nano99-8k-nanocell-ai-thinq-smart-tv.html',\n",
       " 'https://www.harveynorman.com.au/lg-75-inch-nano99-8k-nanocell-ai-thinq-smart-tv.html',\n",
       " 'https://www.harveynorman.com.au/65-nanocell-100-smart-tv.html',\n",
       " 'https://www.harveynorman.com.au/lg-65-inch-nano86-4k-nanocell-ai-thinq-smart-tv.html',\n",
       " 'https://www.harveynorman.com.au/lg-65-inch-nano91-4k-nanocell-ai-thinq-smart-tv.html',\n",
       " 'https://www.harveynorman.com.au/lg-75-inch-nano91-4k-nanocell-ai-thinq-smart-tv.html',\n",
       " 'https://www.harveynorman.com.au/lg-65-inch-nano95-8k-nanocell-ai-thinq-smart-tv.html',\n",
       " 'https://www.harveynorman.com.au/lg-75-inch-nano95-8k-nanocell-ai-thinq-smart-tv.html',\n",
       " 'https://www.harveynorman.com.au/sony-75-inch-x95h-4k-uhd-led-lcd-smart-tv.html',\n",
       " 'https://www.harveynorman.com.au/hisense-75-inch-q8-4k-uled-smart-tv.html',\n",
       " 'https://www.harveynorman.com.au/hisense-65-inch-q8-4k-uled-smart-tv.html',\n",
       " 'https://www.harveynorman.com.au/hisense-55-inch-q8-4k-uled-smart-tv.html',\n",
       " 'https://www.harveynorman.com.au/samsung-75-inch-the-frame-ls03t-4k-qled-smart-tv.html',\n",
       " 'https://www.harveynorman.com.au/samsung-55-inch-the-frame-ls03t-4k-qled-smart-tv.html',\n",
       " 'https://www.harveynorman.com.au/samsung-85-inch-q950t-8k-qled-smart-tv.html',\n",
       " 'https://www.harveynorman.com.au/samsung-75-inch-q950t-8k-qled-smart-tv.html',\n",
       " 'https://www.harveynorman.com.au/samsung-65-inch-q950t-8k-qled-smart-tv.html',\n",
       " 'https://www.harveynorman.com.au/tcl-100-inch-p715-quhd-led-lcd-smart-tv.html',\n",
       " 'https://www.harveynorman.com.au/disposable-3-ply-face-masks-50-pack-1.html',\n",
       " 'https://www.harveynorman.com.au/jbl-t600btnc-wireless-on-ear-headphones-black.html',\n",
       " 'https://www.harveynorman.com.au/noirot-2400w-spot-plus-electric-panel-heater-with-timer.html',\n",
       " 'https://www.harveynorman.com.au/dyson-cinetic-big-ball-animal-vacuum-cleaner.html',\n",
       " 'https://www.harveynorman.com.au/beurer-fwm-45-massage-foot-warmer.html',\n",
       " 'https://www.harveynorman.com.au/homedics-ellia-refresh-ultrasonic-aroma-diffuser-ceramic-grey.html',\n",
       " 'https://www.harveynorman.com.au/sony-65-inch-x95h-4k-uhd-led-lcd-smart-tv.html',\n",
       " 'https://www.harveynorman.com.au/hisense-65-inch-s8-4k-led-lcd-smart-tv.html',\n",
       " 'https://www.harveynorman.com.au/lg-55-inch-nano80-4k-nanocell-ai-thinq-smart-tv.html',\n",
       " 'https://www.harveynorman.com.au/hisense-75-inch-s8-4k-led-lcd-smart-tv.html',\n",
       " 'https://www.harveynorman.com.au/tcl-65-inch-c715-4k-qled-smart-tv.html',\n",
       " 'https://www.harveynorman.com.au/samsung-75-inch-q60t-4k-qled-smart-tv.html',\n",
       " 'https://www.harveynorman.com.au/sony-55-inch-x80h-4k-uhd-led-lcd-smart-tv.html',\n",
       " 'https://www.harveynorman.com.au/samsung-65-inch-the-frame-ls03t-4k-qled-smart-tv.html',\n",
       " 'https://www.harveynorman.com.au/samsung-82-inch-q800t-8k-qled-smart-tv.html',\n",
       " 'https://www.harveynorman.com.au/samsung-75-inch-q800t-8k-qled-smart-tv.html',\n",
       " 'https://www.harveynorman.com.au/samsung-65-inch-q800t-8k-qled-smart-tv.html',\n",
       " 'https://www.harveynorman.com.au/samsung-75-inch-q95t-4k-qled-smart-tv.html',\n",
       " 'https://www.harveynorman.com.au/samsung-55-inch-q95t-4k-qled-smart-tv.html',\n",
       " 'https://www.harveynorman.com.au/samsung-75-inch-q80t-4k-qled-smart-tv.html',\n",
       " 'https://www.harveynorman.com.au/samsung-65-inch-q80t-4k-qled-smart-tv.html',\n",
       " 'https://www.harveynorman.com.au/samsung-55-inch-q80t-4k-qled-smart-tv.html',\n",
       " 'https://www.harveynorman.com.au/samsung-85-inch-q70t-4k-qled-smart-tv.html',\n",
       " 'https://www.harveynorman.com.au/samsung-75-inch-q70t-4k-qled-smart-tv.html',\n",
       " 'https://www.harveynorman.com.au/samsung-65-inch-q70t-4k-qled-smart-tv.html',\n",
       " 'https://www.harveynorman.com.au/lg-55-inch-cx-cinema-series-4k-uhd-self-lit-oled-smart-tv-ai-thinq.html',\n",
       " 'https://www.harveynorman.com.au/lg-65-inch-cx-cinema-series-4k-uhd-self-lit-oled-smart-tv-ai-thinq.html',\n",
       " 'https://www.harveynorman.com.au/lg-77-inch-cx-cinema-series-4k-uhd-self-lit-oled-smart-tv-ai-thinq.html',\n",
       " 'https://www.harveynorman.com.au/lg-65-inch-nano99-8k-nanocell-ai-thinq-smart-tv.html',\n",
       " 'https://www.harveynorman.com.au/lg-75-inch-nano99-8k-nanocell-ai-thinq-smart-tv.html',\n",
       " 'https://www.harveynorman.com.au/65-nanocell-100-smart-tv.html',\n",
       " 'https://www.harveynorman.com.au/lg-65-inch-nano86-4k-nanocell-ai-thinq-smart-tv.html',\n",
       " 'https://www.harveynorman.com.au/lg-65-inch-nano91-4k-nanocell-ai-thinq-smart-tv.html',\n",
       " 'https://www.harveynorman.com.au/lg-75-inch-nano91-4k-nanocell-ai-thinq-smart-tv.html',\n",
       " 'https://www.harveynorman.com.au/lg-65-inch-nano95-8k-nanocell-ai-thinq-smart-tv.html',\n",
       " 'https://www.harveynorman.com.au/lg-75-inch-nano95-8k-nanocell-ai-thinq-smart-tv.html',\n",
       " 'https://www.harveynorman.com.au/sony-75-inch-x95h-4k-uhd-led-lcd-smart-tv.html',\n",
       " 'https://www.harveynorman.com.au/hisense-75-inch-q8-4k-uled-smart-tv.html',\n",
       " 'https://www.harveynorman.com.au/hisense-65-inch-q8-4k-uled-smart-tv.html',\n",
       " 'https://www.harveynorman.com.au/hisense-55-inch-q8-4k-uled-smart-tv.html',\n",
       " 'https://www.harveynorman.com.au/samsung-75-inch-the-frame-ls03t-4k-qled-smart-tv.html',\n",
       " 'https://www.harveynorman.com.au/samsung-55-inch-the-frame-ls03t-4k-qled-smart-tv.html',\n",
       " 'https://www.harveynorman.com.au/samsung-85-inch-q950t-8k-qled-smart-tv.html',\n",
       " 'https://www.harveynorman.com.au/samsung-75-inch-q950t-8k-qled-smart-tv.html',\n",
       " 'https://www.harveynorman.com.au/samsung-65-inch-q950t-8k-qled-smart-tv.html',\n",
       " 'https://www.harveynorman.com.au/tcl-100-inch-p715-quhd-led-lcd-smart-tv.html']"
      ]
     },
     "execution_count": 9,
     "metadata": {},
     "output_type": "execute_result"
    }
   ],
   "source": [
    "link_list"
   ]
  },
  {
   "cell_type": "markdown",
   "metadata": {},
   "source": [
    "url2 = \"https://www.harveynorman.com.au/sony-65-inch-x95h-4k-uhd-led-lcd-smart-tv.html\"\n",
    "response = requests.get(url2)\n",
    "\n",
    "executable_path = {'executable_path': ChromeDriverManager().install()}\n",
    "browser = Browser('chrome', **executable_path, headless=False)\n",
    "\n",
    "\n",
    "browser.visit(url2)"
   ]
  },
  {
   "cell_type": "markdown",
   "metadata": {},
   "source": [
    "# Create BeautifulSoup object; parse with 'html.parser'\n",
    "soup = BeautifulSoup(response.text, 'html.parser')"
   ]
  },
  {
   "cell_type": "markdown",
   "metadata": {},
   "source": [
    "data = soup.find('small', class_=\"product-id meta quiet p_txt-sm\")\n",
    "print(data.text)"
   ]
  },
  {
   "cell_type": "code",
   "execution_count": 11,
   "metadata": {},
   "outputs": [
    {
     "name": "stderr",
     "output_type": "stream",
     "text": [
      "[WDM] - Current google-chrome version is 84.0.4147\n",
      "[WDM] - Get LATEST driver version for 84.0.4147\n",
      "[WDM] - Driver [C:\\Users\\racha\\.wdm\\drivers\\chromedriver\\win32\\84.0.4147.30\\chromedriver.exe] found in cache\n"
     ]
    },
    {
     "name": "stdout",
     "output_type": "stream",
     "text": [
      " \n"
     ]
    },
    {
     "name": "stderr",
     "output_type": "stream",
     "text": [
      "[WDM] - Current google-chrome version is 84.0.4147\n",
      "[WDM] - Get LATEST driver version for 84.0.4147\n",
      "[WDM] - Driver [C:\\Users\\racha\\.wdm\\drivers\\chromedriver\\win32\\84.0.4147.30\\chromedriver.exe] found in cache\n"
     ]
    },
    {
     "name": "stdout",
     "output_type": "stream",
     "text": [
      " \n"
     ]
    },
    {
     "name": "stderr",
     "output_type": "stream",
     "text": [
      "[WDM] - Current google-chrome version is 84.0.4147\n",
      "[WDM] - Get LATEST driver version for 84.0.4147\n",
      "[WDM] - Driver [C:\\Users\\racha\\.wdm\\drivers\\chromedriver\\win32\\84.0.4147.30\\chromedriver.exe] found in cache\n"
     ]
    },
    {
     "name": "stdout",
     "output_type": "stream",
     "text": [
      " \n"
     ]
    },
    {
     "name": "stderr",
     "output_type": "stream",
     "text": [
      "[WDM] - Current google-chrome version is 84.0.4147\n",
      "[WDM] - Get LATEST driver version for 84.0.4147\n",
      "[WDM] - Driver [C:\\Users\\racha\\.wdm\\drivers\\chromedriver\\win32\\84.0.4147.30\\chromedriver.exe] found in cache\n"
     ]
    },
    {
     "name": "stdout",
     "output_type": "stream",
     "text": [
      " \n"
     ]
    },
    {
     "name": "stderr",
     "output_type": "stream",
     "text": [
      "[WDM] - Current google-chrome version is 84.0.4147\n",
      "[WDM] - Get LATEST driver version for 84.0.4147\n",
      "[WDM] - Driver [C:\\Users\\racha\\.wdm\\drivers\\chromedriver\\win32\\84.0.4147.30\\chromedriver.exe] found in cache\n"
     ]
    },
    {
     "name": "stdout",
     "output_type": "stream",
     "text": [
      " \n"
     ]
    },
    {
     "name": "stderr",
     "output_type": "stream",
     "text": [
      "[WDM] - Current google-chrome version is 84.0.4147\n",
      "[WDM] - Get LATEST driver version for 84.0.4147\n",
      "[WDM] - Driver [C:\\Users\\racha\\.wdm\\drivers\\chromedriver\\win32\\84.0.4147.30\\chromedriver.exe] found in cache\n"
     ]
    },
    {
     "name": "stdout",
     "output_type": "stream",
     "text": [
      " \n"
     ]
    },
    {
     "name": "stderr",
     "output_type": "stream",
     "text": [
      "[WDM] - Current google-chrome version is 84.0.4147\n",
      "[WDM] - Get LATEST driver version for 84.0.4147\n",
      "[WDM] - Driver [C:\\Users\\racha\\.wdm\\drivers\\chromedriver\\win32\\84.0.4147.30\\chromedriver.exe] found in cache\n"
     ]
    },
    {
     "name": "stdout",
     "output_type": "stream",
     "text": [
      " \n"
     ]
    },
    {
     "name": "stderr",
     "output_type": "stream",
     "text": [
      "[WDM] - Current google-chrome version is 84.0.4147\n",
      "[WDM] - Get LATEST driver version for 84.0.4147\n",
      "[WDM] - Driver [C:\\Users\\racha\\.wdm\\drivers\\chromedriver\\win32\\84.0.4147.30\\chromedriver.exe] found in cache\n"
     ]
    },
    {
     "name": "stdout",
     "output_type": "stream",
     "text": [
      " \n"
     ]
    },
    {
     "name": "stderr",
     "output_type": "stream",
     "text": [
      "[WDM] - Current google-chrome version is 84.0.4147\n",
      "[WDM] - Get LATEST driver version for 84.0.4147\n",
      "[WDM] - Driver [C:\\Users\\racha\\.wdm\\drivers\\chromedriver\\win32\\84.0.4147.30\\chromedriver.exe] found in cache\n"
     ]
    },
    {
     "name": "stdout",
     "output_type": "stream",
     "text": [
      " \n"
     ]
    },
    {
     "name": "stderr",
     "output_type": "stream",
     "text": [
      "[WDM] - Current google-chrome version is 84.0.4147\n",
      "[WDM] - Get LATEST driver version for 84.0.4147\n",
      "[WDM] - Driver [C:\\Users\\racha\\.wdm\\drivers\\chromedriver\\win32\\84.0.4147.30\\chromedriver.exe] found in cache\n"
     ]
    },
    {
     "name": "stdout",
     "output_type": "stream",
     "text": [
      " \n"
     ]
    },
    {
     "name": "stderr",
     "output_type": "stream",
     "text": [
      "[WDM] - Current google-chrome version is 84.0.4147\n",
      "[WDM] - Get LATEST driver version for 84.0.4147\n",
      "[WDM] - Driver [C:\\Users\\racha\\.wdm\\drivers\\chromedriver\\win32\\84.0.4147.30\\chromedriver.exe] found in cache\n"
     ]
    },
    {
     "name": "stdout",
     "output_type": "stream",
     "text": [
      " \n"
     ]
    },
    {
     "name": "stderr",
     "output_type": "stream",
     "text": [
      "[WDM] - Current google-chrome version is 84.0.4147\n",
      "[WDM] - Get LATEST driver version for 84.0.4147\n",
      "[WDM] - Driver [C:\\Users\\racha\\.wdm\\drivers\\chromedriver\\win32\\84.0.4147.30\\chromedriver.exe] found in cache\n"
     ]
    },
    {
     "name": "stdout",
     "output_type": "stream",
     "text": [
      " \n"
     ]
    },
    {
     "name": "stderr",
     "output_type": "stream",
     "text": [
      "[WDM] - Current google-chrome version is 84.0.4147\n",
      "[WDM] - Get LATEST driver version for 84.0.4147\n",
      "[WDM] - Driver [C:\\Users\\racha\\.wdm\\drivers\\chromedriver\\win32\\84.0.4147.30\\chromedriver.exe] found in cache\n"
     ]
    },
    {
     "name": "stdout",
     "output_type": "stream",
     "text": [
      " \n"
     ]
    },
    {
     "name": "stderr",
     "output_type": "stream",
     "text": [
      "[WDM] - Current google-chrome version is 84.0.4147\n",
      "[WDM] - Get LATEST driver version for 84.0.4147\n",
      "[WDM] - Driver [C:\\Users\\racha\\.wdm\\drivers\\chromedriver\\win32\\84.0.4147.30\\chromedriver.exe] found in cache\n"
     ]
    },
    {
     "name": "stdout",
     "output_type": "stream",
     "text": [
      " \n"
     ]
    },
    {
     "name": "stderr",
     "output_type": "stream",
     "text": [
      "[WDM] - Current google-chrome version is 84.0.4147\n",
      "[WDM] - Get LATEST driver version for 84.0.4147\n",
      "[WDM] - Driver [C:\\Users\\racha\\.wdm\\drivers\\chromedriver\\win32\\84.0.4147.30\\chromedriver.exe] found in cache\n"
     ]
    },
    {
     "name": "stdout",
     "output_type": "stream",
     "text": [
      " \n"
     ]
    },
    {
     "name": "stderr",
     "output_type": "stream",
     "text": [
      "[WDM] - Current google-chrome version is 84.0.4147\n",
      "[WDM] - Get LATEST driver version for 84.0.4147\n",
      "[WDM] - Driver [C:\\Users\\racha\\.wdm\\drivers\\chromedriver\\win32\\84.0.4147.30\\chromedriver.exe] found in cache\n"
     ]
    },
    {
     "name": "stdout",
     "output_type": "stream",
     "text": [
      " \n"
     ]
    },
    {
     "name": "stderr",
     "output_type": "stream",
     "text": [
      "[WDM] - Current google-chrome version is 84.0.4147\n",
      "[WDM] - Get LATEST driver version for 84.0.4147\n",
      "[WDM] - Driver [C:\\Users\\racha\\.wdm\\drivers\\chromedriver\\win32\\84.0.4147.30\\chromedriver.exe] found in cache\n"
     ]
    },
    {
     "name": "stdout",
     "output_type": "stream",
     "text": [
      " \n"
     ]
    },
    {
     "name": "stderr",
     "output_type": "stream",
     "text": [
      "[WDM] - Current google-chrome version is 84.0.4147\n",
      "[WDM] - Get LATEST driver version for 84.0.4147\n",
      "[WDM] - Driver [C:\\Users\\racha\\.wdm\\drivers\\chromedriver\\win32\\84.0.4147.30\\chromedriver.exe] found in cache\n"
     ]
    },
    {
     "name": "stdout",
     "output_type": "stream",
     "text": [
      " \n"
     ]
    },
    {
     "name": "stderr",
     "output_type": "stream",
     "text": [
      "[WDM] - Current google-chrome version is 84.0.4147\n",
      "[WDM] - Get LATEST driver version for 84.0.4147\n",
      "[WDM] - Driver [C:\\Users\\racha\\.wdm\\drivers\\chromedriver\\win32\\84.0.4147.30\\chromedriver.exe] found in cache\n"
     ]
    },
    {
     "name": "stdout",
     "output_type": "stream",
     "text": [
      " \n"
     ]
    },
    {
     "name": "stderr",
     "output_type": "stream",
     "text": [
      "[WDM] - Current google-chrome version is 84.0.4147\n",
      "[WDM] - Get LATEST driver version for 84.0.4147\n",
      "[WDM] - Driver [C:\\Users\\racha\\.wdm\\drivers\\chromedriver\\win32\\84.0.4147.30\\chromedriver.exe] found in cache\n"
     ]
    },
    {
     "name": "stdout",
     "output_type": "stream",
     "text": [
      " \n"
     ]
    },
    {
     "name": "stderr",
     "output_type": "stream",
     "text": [
      "[WDM] - Current google-chrome version is 84.0.4147\n",
      "[WDM] - Get LATEST driver version for 84.0.4147\n",
      "[WDM] - Driver [C:\\Users\\racha\\.wdm\\drivers\\chromedriver\\win32\\84.0.4147.30\\chromedriver.exe] found in cache\n"
     ]
    },
    {
     "name": "stdout",
     "output_type": "stream",
     "text": [
      " \n"
     ]
    },
    {
     "name": "stderr",
     "output_type": "stream",
     "text": [
      "[WDM] - Current google-chrome version is 84.0.4147\n",
      "[WDM] - Get LATEST driver version for 84.0.4147\n",
      "[WDM] - Driver [C:\\Users\\racha\\.wdm\\drivers\\chromedriver\\win32\\84.0.4147.30\\chromedriver.exe] found in cache\n"
     ]
    },
    {
     "name": "stdout",
     "output_type": "stream",
     "text": [
      " \n"
     ]
    },
    {
     "name": "stderr",
     "output_type": "stream",
     "text": [
      "[WDM] - Current google-chrome version is 84.0.4147\n",
      "[WDM] - Get LATEST driver version for 84.0.4147\n",
      "[WDM] - Driver [C:\\Users\\racha\\.wdm\\drivers\\chromedriver\\win32\\84.0.4147.30\\chromedriver.exe] found in cache\n"
     ]
    },
    {
     "name": "stdout",
     "output_type": "stream",
     "text": [
      " \n"
     ]
    },
    {
     "name": "stderr",
     "output_type": "stream",
     "text": [
      "[WDM] - Current google-chrome version is 84.0.4147\n",
      "[WDM] - Get LATEST driver version for 84.0.4147\n",
      "[WDM] - Driver [C:\\Users\\racha\\.wdm\\drivers\\chromedriver\\win32\\84.0.4147.30\\chromedriver.exe] found in cache\n"
     ]
    },
    {
     "name": "stdout",
     "output_type": "stream",
     "text": [
      " \n"
     ]
    },
    {
     "name": "stderr",
     "output_type": "stream",
     "text": [
      "[WDM] - Current google-chrome version is 84.0.4147\n",
      "[WDM] - Get LATEST driver version for 84.0.4147\n",
      "[WDM] - Driver [C:\\Users\\racha\\.wdm\\drivers\\chromedriver\\win32\\84.0.4147.30\\chromedriver.exe] found in cache\n"
     ]
    },
    {
     "name": "stdout",
     "output_type": "stream",
     "text": [
      " \n"
     ]
    },
    {
     "name": "stderr",
     "output_type": "stream",
     "text": [
      "[WDM] - Current google-chrome version is 84.0.4147\n",
      "[WDM] - Get LATEST driver version for 84.0.4147\n",
      "[WDM] - Driver [C:\\Users\\racha\\.wdm\\drivers\\chromedriver\\win32\\84.0.4147.30\\chromedriver.exe] found in cache\n"
     ]
    },
    {
     "name": "stdout",
     "output_type": "stream",
     "text": [
      " \n"
     ]
    },
    {
     "name": "stderr",
     "output_type": "stream",
     "text": [
      "[WDM] - Current google-chrome version is 84.0.4147\n",
      "[WDM] - Get LATEST driver version for 84.0.4147\n"
     ]
    },
    {
     "name": "stdout",
     "output_type": "stream",
     "text": [
      " \n"
     ]
    },
    {
     "name": "stderr",
     "output_type": "stream",
     "text": [
      "[WDM] - Driver [C:\\Users\\racha\\.wdm\\drivers\\chromedriver\\win32\\84.0.4147.30\\chromedriver.exe] found in cache\n",
      "[WDM] - Current google-chrome version is 84.0.4147\n",
      "[WDM] - Get LATEST driver version for 84.0.4147\n",
      "[WDM] - Driver [C:\\Users\\racha\\.wdm\\drivers\\chromedriver\\win32\\84.0.4147.30\\chromedriver.exe] found in cache\n"
     ]
    },
    {
     "name": "stdout",
     "output_type": "stream",
     "text": [
      " \n"
     ]
    },
    {
     "name": "stderr",
     "output_type": "stream",
     "text": [
      "[WDM] - Current google-chrome version is 84.0.4147\n",
      "[WDM] - Get LATEST driver version for 84.0.4147\n",
      "[WDM] - Driver [C:\\Users\\racha\\.wdm\\drivers\\chromedriver\\win32\\84.0.4147.30\\chromedriver.exe] found in cache\n"
     ]
    },
    {
     "name": "stdout",
     "output_type": "stream",
     "text": [
      " \n"
     ]
    },
    {
     "name": "stderr",
     "output_type": "stream",
     "text": [
      "[WDM] - Current google-chrome version is 84.0.4147\n",
      "[WDM] - Get LATEST driver version for 84.0.4147\n",
      "[WDM] - Driver [C:\\Users\\racha\\.wdm\\drivers\\chromedriver\\win32\\84.0.4147.30\\chromedriver.exe] found in cache\n"
     ]
    },
    {
     "name": "stdout",
     "output_type": "stream",
     "text": [
      " \n"
     ]
    },
    {
     "name": "stderr",
     "output_type": "stream",
     "text": [
      "[WDM] - Current google-chrome version is 84.0.4147\n",
      "[WDM] - Get LATEST driver version for 84.0.4147\n",
      "[WDM] - Driver [C:\\Users\\racha\\.wdm\\drivers\\chromedriver\\win32\\84.0.4147.30\\chromedriver.exe] found in cache\n"
     ]
    },
    {
     "name": "stdout",
     "output_type": "stream",
     "text": [
      " \n"
     ]
    },
    {
     "name": "stderr",
     "output_type": "stream",
     "text": [
      "[WDM] - Current google-chrome version is 84.0.4147\n",
      "[WDM] - Get LATEST driver version for 84.0.4147\n",
      "[WDM] - Driver [C:\\Users\\racha\\.wdm\\drivers\\chromedriver\\win32\\84.0.4147.30\\chromedriver.exe] found in cache\n"
     ]
    },
    {
     "name": "stdout",
     "output_type": "stream",
     "text": [
      " \n"
     ]
    },
    {
     "name": "stderr",
     "output_type": "stream",
     "text": [
      "[WDM] - Current google-chrome version is 84.0.4147\n",
      "[WDM] - Get LATEST driver version for 84.0.4147\n",
      "[WDM] - Driver [C:\\Users\\racha\\.wdm\\drivers\\chromedriver\\win32\\84.0.4147.30\\chromedriver.exe] found in cache\n"
     ]
    },
    {
     "name": "stdout",
     "output_type": "stream",
     "text": [
      " \n"
     ]
    },
    {
     "name": "stderr",
     "output_type": "stream",
     "text": [
      "[WDM] - Current google-chrome version is 84.0.4147\n",
      "[WDM] - Get LATEST driver version for 84.0.4147\n",
      "[WDM] - Driver [C:\\Users\\racha\\.wdm\\drivers\\chromedriver\\win32\\84.0.4147.30\\chromedriver.exe] found in cache\n"
     ]
    },
    {
     "name": "stdout",
     "output_type": "stream",
     "text": [
      " \n"
     ]
    },
    {
     "name": "stderr",
     "output_type": "stream",
     "text": [
      "[WDM] - Current google-chrome version is 84.0.4147\n",
      "[WDM] - Get LATEST driver version for 84.0.4147\n",
      "[WDM] - Driver [C:\\Users\\racha\\.wdm\\drivers\\chromedriver\\win32\\84.0.4147.30\\chromedriver.exe] found in cache\n"
     ]
    },
    {
     "name": "stdout",
     "output_type": "stream",
     "text": [
      " \n"
     ]
    },
    {
     "name": "stderr",
     "output_type": "stream",
     "text": [
      "[WDM] - Current google-chrome version is 84.0.4147\n",
      "[WDM] - Get LATEST driver version for 84.0.4147\n",
      "[WDM] - Driver [C:\\Users\\racha\\.wdm\\drivers\\chromedriver\\win32\\84.0.4147.30\\chromedriver.exe] found in cache\n"
     ]
    },
    {
     "name": "stdout",
     "output_type": "stream",
     "text": [
      " \n"
     ]
    },
    {
     "name": "stderr",
     "output_type": "stream",
     "text": [
      "[WDM] - Current google-chrome version is 84.0.4147\n",
      "[WDM] - Get LATEST driver version for 84.0.4147\n",
      "[WDM] - Driver [C:\\Users\\racha\\.wdm\\drivers\\chromedriver\\win32\\84.0.4147.30\\chromedriver.exe] found in cache\n"
     ]
    },
    {
     "name": "stdout",
     "output_type": "stream",
     "text": [
      " \n"
     ]
    },
    {
     "name": "stderr",
     "output_type": "stream",
     "text": [
      "[WDM] - Current google-chrome version is 84.0.4147\n",
      "[WDM] - Get LATEST driver version for 84.0.4147\n",
      "[WDM] - Driver [C:\\Users\\racha\\.wdm\\drivers\\chromedriver\\win32\\84.0.4147.30\\chromedriver.exe] found in cache\n"
     ]
    },
    {
     "name": "stdout",
     "output_type": "stream",
     "text": [
      " \n"
     ]
    },
    {
     "name": "stderr",
     "output_type": "stream",
     "text": [
      "[WDM] - Current google-chrome version is 84.0.4147\n",
      "[WDM] - Get LATEST driver version for 84.0.4147\n",
      "[WDM] - Driver [C:\\Users\\racha\\.wdm\\drivers\\chromedriver\\win32\\84.0.4147.30\\chromedriver.exe] found in cache\n"
     ]
    },
    {
     "name": "stdout",
     "output_type": "stream",
     "text": [
      " \n"
     ]
    },
    {
     "name": "stderr",
     "output_type": "stream",
     "text": [
      "[WDM] - Current google-chrome version is 84.0.4147\n",
      "[WDM] - Get LATEST driver version for 84.0.4147\n",
      "[WDM] - Driver [C:\\Users\\racha\\.wdm\\drivers\\chromedriver\\win32\\84.0.4147.30\\chromedriver.exe] found in cache\n"
     ]
    },
    {
     "name": "stdout",
     "output_type": "stream",
     "text": [
      " \n"
     ]
    },
    {
     "name": "stderr",
     "output_type": "stream",
     "text": [
      "[WDM] - Current google-chrome version is 84.0.4147\n",
      "[WDM] - Get LATEST driver version for 84.0.4147\n",
      "[WDM] - Driver [C:\\Users\\racha\\.wdm\\drivers\\chromedriver\\win32\\84.0.4147.30\\chromedriver.exe] found in cache\n"
     ]
    },
    {
     "name": "stdout",
     "output_type": "stream",
     "text": [
      " \n"
     ]
    },
    {
     "name": "stderr",
     "output_type": "stream",
     "text": [
      "[WDM] - Current google-chrome version is 84.0.4147\n",
      "[WDM] - Get LATEST driver version for 84.0.4147\n",
      "[WDM] - Driver [C:\\Users\\racha\\.wdm\\drivers\\chromedriver\\win32\\84.0.4147.30\\chromedriver.exe] found in cache\n"
     ]
    },
    {
     "name": "stdout",
     "output_type": "stream",
     "text": [
      " \n"
     ]
    },
    {
     "name": "stderr",
     "output_type": "stream",
     "text": [
      "[WDM] - Current google-chrome version is 84.0.4147\n",
      "[WDM] - Get LATEST driver version for 84.0.4147\n",
      "[WDM] - Driver [C:\\Users\\racha\\.wdm\\drivers\\chromedriver\\win32\\84.0.4147.30\\chromedriver.exe] found in cache\n"
     ]
    },
    {
     "name": "stdout",
     "output_type": "stream",
     "text": [
      " \n"
     ]
    },
    {
     "name": "stderr",
     "output_type": "stream",
     "text": [
      "[WDM] - Current google-chrome version is 84.0.4147\n",
      "[WDM] - Get LATEST driver version for 84.0.4147\n",
      "[WDM] - Driver [C:\\Users\\racha\\.wdm\\drivers\\chromedriver\\win32\\84.0.4147.30\\chromedriver.exe] found in cache\n"
     ]
    },
    {
     "name": "stdout",
     "output_type": "stream",
     "text": [
      " \n"
     ]
    },
    {
     "name": "stderr",
     "output_type": "stream",
     "text": [
      "[WDM] - Current google-chrome version is 84.0.4147\n",
      "[WDM] - Get LATEST driver version for 84.0.4147\n",
      "[WDM] - Driver [C:\\Users\\racha\\.wdm\\drivers\\chromedriver\\win32\\84.0.4147.30\\chromedriver.exe] found in cache\n"
     ]
    },
    {
     "name": "stdout",
     "output_type": "stream",
     "text": [
      " \n"
     ]
    },
    {
     "name": "stderr",
     "output_type": "stream",
     "text": [
      "[WDM] - Current google-chrome version is 84.0.4147\n",
      "[WDM] - Get LATEST driver version for 84.0.4147\n",
      "[WDM] - Driver [C:\\Users\\racha\\.wdm\\drivers\\chromedriver\\win32\\84.0.4147.30\\chromedriver.exe] found in cache\n"
     ]
    },
    {
     "name": "stdout",
     "output_type": "stream",
     "text": [
      " \n"
     ]
    },
    {
     "name": "stderr",
     "output_type": "stream",
     "text": [
      "[WDM] - Current google-chrome version is 84.0.4147\n",
      "[WDM] - Get LATEST driver version for 84.0.4147\n",
      "[WDM] - Driver [C:\\Users\\racha\\.wdm\\drivers\\chromedriver\\win32\\84.0.4147.30\\chromedriver.exe] found in cache\n"
     ]
    },
    {
     "name": "stdout",
     "output_type": "stream",
     "text": [
      " \n"
     ]
    },
    {
     "name": "stderr",
     "output_type": "stream",
     "text": [
      "[WDM] - Current google-chrome version is 84.0.4147\n",
      "[WDM] - Get LATEST driver version for 84.0.4147\n"
     ]
    },
    {
     "name": "stdout",
     "output_type": "stream",
     "text": [
      " \n"
     ]
    },
    {
     "name": "stderr",
     "output_type": "stream",
     "text": [
      "[WDM] - Driver [C:\\Users\\racha\\.wdm\\drivers\\chromedriver\\win32\\84.0.4147.30\\chromedriver.exe] found in cache\n",
      "[WDM] - Current google-chrome version is 84.0.4147\n",
      "[WDM] - Get LATEST driver version for 84.0.4147\n",
      "[WDM] - Driver [C:\\Users\\racha\\.wdm\\drivers\\chromedriver\\win32\\84.0.4147.30\\chromedriver.exe] found in cache\n"
     ]
    },
    {
     "name": "stdout",
     "output_type": "stream",
     "text": [
      " \n"
     ]
    },
    {
     "name": "stderr",
     "output_type": "stream",
     "text": [
      "[WDM] - Current google-chrome version is 84.0.4147\n",
      "[WDM] - Get LATEST driver version for 84.0.4147\n",
      "[WDM] - Driver [C:\\Users\\racha\\.wdm\\drivers\\chromedriver\\win32\\84.0.4147.30\\chromedriver.exe] found in cache\n"
     ]
    },
    {
     "name": "stdout",
     "output_type": "stream",
     "text": [
      " \n"
     ]
    },
    {
     "name": "stderr",
     "output_type": "stream",
     "text": [
      "[WDM] - Current google-chrome version is 84.0.4147\n",
      "[WDM] - Get LATEST driver version for 84.0.4147\n",
      "[WDM] - Driver [C:\\Users\\racha\\.wdm\\drivers\\chromedriver\\win32\\84.0.4147.30\\chromedriver.exe] found in cache\n"
     ]
    },
    {
     "name": "stdout",
     "output_type": "stream",
     "text": [
      " \n"
     ]
    },
    {
     "name": "stderr",
     "output_type": "stream",
     "text": [
      "[WDM] - Current google-chrome version is 84.0.4147\n",
      "[WDM] - Get LATEST driver version for 84.0.4147\n",
      "[WDM] - Driver [C:\\Users\\racha\\.wdm\\drivers\\chromedriver\\win32\\84.0.4147.30\\chromedriver.exe] found in cache\n"
     ]
    },
    {
     "name": "stdout",
     "output_type": "stream",
     "text": [
      " \n"
     ]
    },
    {
     "name": "stderr",
     "output_type": "stream",
     "text": [
      "[WDM] - Current google-chrome version is 84.0.4147\n",
      "[WDM] - Get LATEST driver version for 84.0.4147\n",
      "[WDM] - Driver [C:\\Users\\racha\\.wdm\\drivers\\chromedriver\\win32\\84.0.4147.30\\chromedriver.exe] found in cache\n"
     ]
    },
    {
     "name": "stdout",
     "output_type": "stream",
     "text": [
      " \n"
     ]
    },
    {
     "name": "stderr",
     "output_type": "stream",
     "text": [
      "[WDM] - Current google-chrome version is 84.0.4147\n",
      "[WDM] - Get LATEST driver version for 84.0.4147\n",
      "[WDM] - Driver [C:\\Users\\racha\\.wdm\\drivers\\chromedriver\\win32\\84.0.4147.30\\chromedriver.exe] found in cache\n"
     ]
    },
    {
     "name": "stdout",
     "output_type": "stream",
     "text": [
      " \n"
     ]
    },
    {
     "name": "stderr",
     "output_type": "stream",
     "text": [
      "[WDM] - Current google-chrome version is 84.0.4147\n",
      "[WDM] - Get LATEST driver version for 84.0.4147\n",
      "[WDM] - Driver [C:\\Users\\racha\\.wdm\\drivers\\chromedriver\\win32\\84.0.4147.30\\chromedriver.exe] found in cache\n"
     ]
    },
    {
     "name": "stdout",
     "output_type": "stream",
     "text": [
      " \n"
     ]
    },
    {
     "name": "stderr",
     "output_type": "stream",
     "text": [
      "[WDM] - Current google-chrome version is 84.0.4147\n",
      "[WDM] - Get LATEST driver version for 84.0.4147\n",
      "[WDM] - Driver [C:\\Users\\racha\\.wdm\\drivers\\chromedriver\\win32\\84.0.4147.30\\chromedriver.exe] found in cache\n"
     ]
    },
    {
     "name": "stdout",
     "output_type": "stream",
     "text": [
      " \n"
     ]
    },
    {
     "name": "stderr",
     "output_type": "stream",
     "text": [
      "[WDM] - Current google-chrome version is 84.0.4147\n",
      "[WDM] - Get LATEST driver version for 84.0.4147\n",
      "[WDM] - Driver [C:\\Users\\racha\\.wdm\\drivers\\chromedriver\\win32\\84.0.4147.30\\chromedriver.exe] found in cache\n"
     ]
    },
    {
     "name": "stdout",
     "output_type": "stream",
     "text": [
      " \n"
     ]
    },
    {
     "name": "stderr",
     "output_type": "stream",
     "text": [
      "[WDM] - Current google-chrome version is 84.0.4147\n",
      "[WDM] - Get LATEST driver version for 84.0.4147\n",
      "[WDM] - Driver [C:\\Users\\racha\\.wdm\\drivers\\chromedriver\\win32\\84.0.4147.30\\chromedriver.exe] found in cache\n"
     ]
    },
    {
     "name": "stdout",
     "output_type": "stream",
     "text": [
      " \n"
     ]
    },
    {
     "name": "stderr",
     "output_type": "stream",
     "text": [
      "[WDM] - Current google-chrome version is 84.0.4147\n",
      "[WDM] - Get LATEST driver version for 84.0.4147\n",
      "[WDM] - Driver [C:\\Users\\racha\\.wdm\\drivers\\chromedriver\\win32\\84.0.4147.30\\chromedriver.exe] found in cache\n"
     ]
    },
    {
     "name": "stdout",
     "output_type": "stream",
     "text": [
      " \n"
     ]
    },
    {
     "name": "stderr",
     "output_type": "stream",
     "text": [
      "[WDM] - Current google-chrome version is 84.0.4147\n",
      "[WDM] - Get LATEST driver version for 84.0.4147\n",
      "[WDM] - Driver [C:\\Users\\racha\\.wdm\\drivers\\chromedriver\\win32\\84.0.4147.30\\chromedriver.exe] found in cache\n"
     ]
    },
    {
     "name": "stdout",
     "output_type": "stream",
     "text": [
      " \n"
     ]
    },
    {
     "name": "stderr",
     "output_type": "stream",
     "text": [
      "[WDM] - Current google-chrome version is 84.0.4147\n",
      "[WDM] - Get LATEST driver version for 84.0.4147\n"
     ]
    },
    {
     "name": "stdout",
     "output_type": "stream",
     "text": [
      " \n"
     ]
    },
    {
     "name": "stderr",
     "output_type": "stream",
     "text": [
      "[WDM] - Driver [C:\\Users\\racha\\.wdm\\drivers\\chromedriver\\win32\\84.0.4147.30\\chromedriver.exe] found in cache\n",
      "[WDM] - Current google-chrome version is 84.0.4147\n",
      "[WDM] - Get LATEST driver version for 84.0.4147\n",
      "[WDM] - Driver [C:\\Users\\racha\\.wdm\\drivers\\chromedriver\\win32\\84.0.4147.30\\chromedriver.exe] found in cache\n"
     ]
    },
    {
     "name": "stdout",
     "output_type": "stream",
     "text": [
      " \n"
     ]
    },
    {
     "name": "stderr",
     "output_type": "stream",
     "text": [
      "[WDM] - Current google-chrome version is 84.0.4147\n",
      "[WDM] - Get LATEST driver version for 84.0.4147\n",
      "[WDM] - Driver [C:\\Users\\racha\\.wdm\\drivers\\chromedriver\\win32\\84.0.4147.30\\chromedriver.exe] found in cache\n"
     ]
    },
    {
     "name": "stdout",
     "output_type": "stream",
     "text": [
      " \n"
     ]
    },
    {
     "name": "stderr",
     "output_type": "stream",
     "text": [
      "[WDM] - Current google-chrome version is 84.0.4147\n",
      "[WDM] - Get LATEST driver version for 84.0.4147\n",
      "[WDM] - Driver [C:\\Users\\racha\\.wdm\\drivers\\chromedriver\\win32\\84.0.4147.30\\chromedriver.exe] found in cache\n"
     ]
    },
    {
     "name": "stdout",
     "output_type": "stream",
     "text": [
      " \n"
     ]
    },
    {
     "name": "stderr",
     "output_type": "stream",
     "text": [
      "[WDM] - Current google-chrome version is 84.0.4147\n",
      "[WDM] - Get LATEST driver version for 84.0.4147\n",
      "[WDM] - Driver [C:\\Users\\racha\\.wdm\\drivers\\chromedriver\\win32\\84.0.4147.30\\chromedriver.exe] found in cache\n"
     ]
    },
    {
     "name": "stdout",
     "output_type": "stream",
     "text": [
      " \n"
     ]
    },
    {
     "name": "stderr",
     "output_type": "stream",
     "text": [
      "[WDM] - Current google-chrome version is 84.0.4147\n",
      "[WDM] - Get LATEST driver version for 84.0.4147\n",
      "[WDM] - Driver [C:\\Users\\racha\\.wdm\\drivers\\chromedriver\\win32\\84.0.4147.30\\chromedriver.exe] found in cache\n"
     ]
    },
    {
     "name": "stdout",
     "output_type": "stream",
     "text": [
      " \n"
     ]
    },
    {
     "name": "stderr",
     "output_type": "stream",
     "text": [
      "[WDM] - Current google-chrome version is 84.0.4147\n",
      "[WDM] - Get LATEST driver version for 84.0.4147\n",
      "[WDM] - Driver [C:\\Users\\racha\\.wdm\\drivers\\chromedriver\\win32\\84.0.4147.30\\chromedriver.exe] found in cache\n"
     ]
    },
    {
     "name": "stdout",
     "output_type": "stream",
     "text": [
      " \n"
     ]
    },
    {
     "name": "stderr",
     "output_type": "stream",
     "text": [
      "[WDM] - Current google-chrome version is 84.0.4147\n",
      "[WDM] - Get LATEST driver version for 84.0.4147\n",
      "[WDM] - Driver [C:\\Users\\racha\\.wdm\\drivers\\chromedriver\\win32\\84.0.4147.30\\chromedriver.exe] found in cache\n"
     ]
    },
    {
     "name": "stdout",
     "output_type": "stream",
     "text": [
      " \n"
     ]
    },
    {
     "name": "stderr",
     "output_type": "stream",
     "text": [
      "[WDM] - Current google-chrome version is 84.0.4147\n",
      "[WDM] - Get LATEST driver version for 84.0.4147\n",
      "[WDM] - Driver [C:\\Users\\racha\\.wdm\\drivers\\chromedriver\\win32\\84.0.4147.30\\chromedriver.exe] found in cache\n"
     ]
    },
    {
     "name": "stdout",
     "output_type": "stream",
     "text": [
      " \n"
     ]
    },
    {
     "name": "stderr",
     "output_type": "stream",
     "text": [
      "[WDM] - Current google-chrome version is 84.0.4147\n",
      "[WDM] - Get LATEST driver version for 84.0.4147\n",
      "[WDM] - Driver [C:\\Users\\racha\\.wdm\\drivers\\chromedriver\\win32\\84.0.4147.30\\chromedriver.exe] found in cache\n"
     ]
    },
    {
     "name": "stdout",
     "output_type": "stream",
     "text": [
      " \n"
     ]
    },
    {
     "name": "stderr",
     "output_type": "stream",
     "text": [
      "[WDM] - Current google-chrome version is 84.0.4147\n",
      "[WDM] - Get LATEST driver version for 84.0.4147\n",
      "[WDM] - Driver [C:\\Users\\racha\\.wdm\\drivers\\chromedriver\\win32\\84.0.4147.30\\chromedriver.exe] found in cache\n"
     ]
    },
    {
     "name": "stdout",
     "output_type": "stream",
     "text": [
      " \n"
     ]
    },
    {
     "name": "stderr",
     "output_type": "stream",
     "text": [
      "[WDM] - Current google-chrome version is 84.0.4147\n",
      "[WDM] - Get LATEST driver version for 84.0.4147\n",
      "[WDM] - Driver [C:\\Users\\racha\\.wdm\\drivers\\chromedriver\\win32\\84.0.4147.30\\chromedriver.exe] found in cache\n"
     ]
    },
    {
     "name": "stdout",
     "output_type": "stream",
     "text": [
      " \n"
     ]
    },
    {
     "name": "stderr",
     "output_type": "stream",
     "text": [
      "[WDM] - Current google-chrome version is 84.0.4147\n",
      "[WDM] - Get LATEST driver version for 84.0.4147\n",
      "[WDM] - Driver [C:\\Users\\racha\\.wdm\\drivers\\chromedriver\\win32\\84.0.4147.30\\chromedriver.exe] found in cache\n"
     ]
    },
    {
     "name": "stdout",
     "output_type": "stream",
     "text": [
      " \n"
     ]
    },
    {
     "name": "stderr",
     "output_type": "stream",
     "text": [
      "[WDM] - Current google-chrome version is 84.0.4147\n",
      "[WDM] - Get LATEST driver version for 84.0.4147\n",
      "[WDM] - Driver [C:\\Users\\racha\\.wdm\\drivers\\chromedriver\\win32\\84.0.4147.30\\chromedriver.exe] found in cache\n"
     ]
    },
    {
     "name": "stdout",
     "output_type": "stream",
     "text": [
      " \n"
     ]
    },
    {
     "name": "stderr",
     "output_type": "stream",
     "text": [
      "[WDM] - Current google-chrome version is 84.0.4147\n",
      "[WDM] - Get LATEST driver version for 84.0.4147\n"
     ]
    },
    {
     "name": "stdout",
     "output_type": "stream",
     "text": [
      " \n"
     ]
    },
    {
     "name": "stderr",
     "output_type": "stream",
     "text": [
      "[WDM] - Driver [C:\\Users\\racha\\.wdm\\drivers\\chromedriver\\win32\\84.0.4147.30\\chromedriver.exe] found in cache\n",
      "[WDM] - Current google-chrome version is 84.0.4147\n",
      "[WDM] - Get LATEST driver version for 84.0.4147\n",
      "[WDM] - Driver [C:\\Users\\racha\\.wdm\\drivers\\chromedriver\\win32\\84.0.4147.30\\chromedriver.exe] found in cache\n"
     ]
    },
    {
     "name": "stdout",
     "output_type": "stream",
     "text": [
      " \n"
     ]
    },
    {
     "name": "stderr",
     "output_type": "stream",
     "text": [
      "[WDM] - Current google-chrome version is 84.0.4147\n",
      "[WDM] - Get LATEST driver version for 84.0.4147\n",
      "[WDM] - Driver [C:\\Users\\racha\\.wdm\\drivers\\chromedriver\\win32\\84.0.4147.30\\chromedriver.exe] found in cache\n"
     ]
    },
    {
     "name": "stdout",
     "output_type": "stream",
     "text": [
      " \n"
     ]
    },
    {
     "name": "stderr",
     "output_type": "stream",
     "text": [
      "[WDM] - Current google-chrome version is 84.0.4147\n",
      "[WDM] - Get LATEST driver version for 84.0.4147\n",
      "[WDM] - Driver [C:\\Users\\racha\\.wdm\\drivers\\chromedriver\\win32\\84.0.4147.30\\chromedriver.exe] found in cache\n"
     ]
    },
    {
     "name": "stdout",
     "output_type": "stream",
     "text": [
      " \n"
     ]
    },
    {
     "name": "stderr",
     "output_type": "stream",
     "text": [
      "[WDM] - Current google-chrome version is 84.0.4147\n",
      "[WDM] - Get LATEST driver version for 84.0.4147\n",
      "[WDM] - Driver [C:\\Users\\racha\\.wdm\\drivers\\chromedriver\\win32\\84.0.4147.30\\chromedriver.exe] found in cache\n"
     ]
    },
    {
     "name": "stdout",
     "output_type": "stream",
     "text": [
      " \n"
     ]
    },
    {
     "name": "stderr",
     "output_type": "stream",
     "text": [
      "[WDM] - Current google-chrome version is 84.0.4147\n",
      "[WDM] - Get LATEST driver version for 84.0.4147\n",
      "[WDM] - Driver [C:\\Users\\racha\\.wdm\\drivers\\chromedriver\\win32\\84.0.4147.30\\chromedriver.exe] found in cache\n"
     ]
    },
    {
     "name": "stdout",
     "output_type": "stream",
     "text": [
      " \n"
     ]
    },
    {
     "name": "stderr",
     "output_type": "stream",
     "text": [
      "[WDM] - Current google-chrome version is 84.0.4147\n",
      "[WDM] - Get LATEST driver version for 84.0.4147\n",
      "[WDM] - Driver [C:\\Users\\racha\\.wdm\\drivers\\chromedriver\\win32\\84.0.4147.30\\chromedriver.exe] found in cache\n"
     ]
    },
    {
     "name": "stdout",
     "output_type": "stream",
     "text": [
      " \n"
     ]
    },
    {
     "name": "stderr",
     "output_type": "stream",
     "text": [
      "[WDM] - Current google-chrome version is 84.0.4147\n",
      "[WDM] - Get LATEST driver version for 84.0.4147\n",
      "[WDM] - Driver [C:\\Users\\racha\\.wdm\\drivers\\chromedriver\\win32\\84.0.4147.30\\chromedriver.exe] found in cache\n"
     ]
    },
    {
     "name": "stdout",
     "output_type": "stream",
     "text": [
      " \n"
     ]
    },
    {
     "name": "stderr",
     "output_type": "stream",
     "text": [
      "[WDM] - Current google-chrome version is 84.0.4147\n",
      "[WDM] - Get LATEST driver version for 84.0.4147\n",
      "[WDM] - Driver [C:\\Users\\racha\\.wdm\\drivers\\chromedriver\\win32\\84.0.4147.30\\chromedriver.exe] found in cache\n"
     ]
    },
    {
     "name": "stdout",
     "output_type": "stream",
     "text": [
      " \n"
     ]
    },
    {
     "name": "stderr",
     "output_type": "stream",
     "text": [
      "[WDM] - Current google-chrome version is 84.0.4147\n",
      "[WDM] - Get LATEST driver version for 84.0.4147\n",
      "[WDM] - Driver [C:\\Users\\racha\\.wdm\\drivers\\chromedriver\\win32\\84.0.4147.30\\chromedriver.exe] found in cache\n"
     ]
    },
    {
     "name": "stdout",
     "output_type": "stream",
     "text": [
      " \n"
     ]
    },
    {
     "name": "stderr",
     "output_type": "stream",
     "text": [
      "[WDM] - Current google-chrome version is 84.0.4147\n",
      "[WDM] - Get LATEST driver version for 84.0.4147\n",
      "[WDM] - Driver [C:\\Users\\racha\\.wdm\\drivers\\chromedriver\\win32\\84.0.4147.30\\chromedriver.exe] found in cache\n"
     ]
    },
    {
     "name": "stdout",
     "output_type": "stream",
     "text": [
      " \n"
     ]
    },
    {
     "name": "stderr",
     "output_type": "stream",
     "text": [
      "[WDM] - Current google-chrome version is 84.0.4147\n",
      "[WDM] - Get LATEST driver version for 84.0.4147\n",
      "[WDM] - Driver [C:\\Users\\racha\\.wdm\\drivers\\chromedriver\\win32\\84.0.4147.30\\chromedriver.exe] found in cache\n"
     ]
    },
    {
     "name": "stdout",
     "output_type": "stream",
     "text": [
      " \n"
     ]
    },
    {
     "name": "stderr",
     "output_type": "stream",
     "text": [
      "[WDM] - Current google-chrome version is 84.0.4147\n",
      "[WDM] - Get LATEST driver version for 84.0.4147\n",
      "[WDM] - Driver [C:\\Users\\racha\\.wdm\\drivers\\chromedriver\\win32\\84.0.4147.30\\chromedriver.exe] found in cache\n"
     ]
    },
    {
     "name": "stdout",
     "output_type": "stream",
     "text": [
      " \n"
     ]
    },
    {
     "name": "stderr",
     "output_type": "stream",
     "text": [
      "[WDM] - Current google-chrome version is 84.0.4147\n",
      "[WDM] - Get LATEST driver version for 84.0.4147\n",
      "[WDM] - Driver [C:\\Users\\racha\\.wdm\\drivers\\chromedriver\\win32\\84.0.4147.30\\chromedriver.exe] found in cache\n"
     ]
    },
    {
     "name": "stdout",
     "output_type": "stream",
     "text": [
      " \n"
     ]
    },
    {
     "name": "stderr",
     "output_type": "stream",
     "text": [
      "[WDM] - Current google-chrome version is 84.0.4147\n",
      "[WDM] - Get LATEST driver version for 84.0.4147\n",
      "[WDM] - Driver [C:\\Users\\racha\\.wdm\\drivers\\chromedriver\\win32\\84.0.4147.30\\chromedriver.exe] found in cache\n"
     ]
    },
    {
     "name": "stdout",
     "output_type": "stream",
     "text": [
      " \n"
     ]
    },
    {
     "name": "stderr",
     "output_type": "stream",
     "text": [
      "[WDM] - Current google-chrome version is 84.0.4147\n",
      "[WDM] - Get LATEST driver version for 84.0.4147\n",
      "[WDM] - Driver [C:\\Users\\racha\\.wdm\\drivers\\chromedriver\\win32\\84.0.4147.30\\chromedriver.exe] found in cache\n"
     ]
    },
    {
     "name": "stdout",
     "output_type": "stream",
     "text": [
      " \n"
     ]
    },
    {
     "name": "stderr",
     "output_type": "stream",
     "text": [
      "[WDM] - Current google-chrome version is 84.0.4147\n",
      "[WDM] - Get LATEST driver version for 84.0.4147\n",
      "[WDM] - Driver [C:\\Users\\racha\\.wdm\\drivers\\chromedriver\\win32\\84.0.4147.30\\chromedriver.exe] found in cache\n"
     ]
    },
    {
     "name": "stdout",
     "output_type": "stream",
     "text": [
      " \n"
     ]
    },
    {
     "name": "stderr",
     "output_type": "stream",
     "text": [
      "[WDM] - Current google-chrome version is 84.0.4147\n",
      "[WDM] - Get LATEST driver version for 84.0.4147\n",
      "[WDM] - Driver [C:\\Users\\racha\\.wdm\\drivers\\chromedriver\\win32\\84.0.4147.30\\chromedriver.exe] found in cache\n"
     ]
    },
    {
     "name": "stdout",
     "output_type": "stream",
     "text": [
      " \n"
     ]
    },
    {
     "name": "stderr",
     "output_type": "stream",
     "text": [
      "[WDM] - Current google-chrome version is 84.0.4147\n",
      "[WDM] - Get LATEST driver version for 84.0.4147\n"
     ]
    },
    {
     "name": "stdout",
     "output_type": "stream",
     "text": [
      " \n"
     ]
    },
    {
     "name": "stderr",
     "output_type": "stream",
     "text": [
      "[WDM] - Driver [C:\\Users\\racha\\.wdm\\drivers\\chromedriver\\win32\\84.0.4147.30\\chromedriver.exe] found in cache\n",
      "[WDM] - Current google-chrome version is 84.0.4147\n",
      "[WDM] - Get LATEST driver version for 84.0.4147\n",
      "[WDM] - Driver [C:\\Users\\racha\\.wdm\\drivers\\chromedriver\\win32\\84.0.4147.30\\chromedriver.exe] found in cache\n"
     ]
    },
    {
     "name": "stdout",
     "output_type": "stream",
     "text": [
      " \n"
     ]
    },
    {
     "name": "stderr",
     "output_type": "stream",
     "text": [
      "[WDM] - Current google-chrome version is 84.0.4147\n",
      "[WDM] - Get LATEST driver version for 84.0.4147\n",
      "[WDM] - Driver [C:\\Users\\racha\\.wdm\\drivers\\chromedriver\\win32\\84.0.4147.30\\chromedriver.exe] found in cache\n"
     ]
    },
    {
     "name": "stdout",
     "output_type": "stream",
     "text": [
      " \n"
     ]
    },
    {
     "name": "stderr",
     "output_type": "stream",
     "text": [
      "[WDM] - Current google-chrome version is 84.0.4147\n",
      "[WDM] - Get LATEST driver version for 84.0.4147\n",
      "[WDM] - Driver [C:\\Users\\racha\\.wdm\\drivers\\chromedriver\\win32\\84.0.4147.30\\chromedriver.exe] found in cache\n"
     ]
    },
    {
     "name": "stdout",
     "output_type": "stream",
     "text": [
      " \n"
     ]
    },
    {
     "name": "stderr",
     "output_type": "stream",
     "text": [
      "[WDM] - Current google-chrome version is 84.0.4147\n",
      "[WDM] - Get LATEST driver version for 84.0.4147\n",
      "[WDM] - Driver [C:\\Users\\racha\\.wdm\\drivers\\chromedriver\\win32\\84.0.4147.30\\chromedriver.exe] found in cache\n"
     ]
    },
    {
     "name": "stdout",
     "output_type": "stream",
     "text": [
      " \n"
     ]
    },
    {
     "name": "stderr",
     "output_type": "stream",
     "text": [
      "[WDM] - Current google-chrome version is 84.0.4147\n",
      "[WDM] - Get LATEST driver version for 84.0.4147\n",
      "[WDM] - Driver [C:\\Users\\racha\\.wdm\\drivers\\chromedriver\\win32\\84.0.4147.30\\chromedriver.exe] found in cache\n"
     ]
    },
    {
     "name": "stdout",
     "output_type": "stream",
     "text": [
      " \n"
     ]
    },
    {
     "name": "stderr",
     "output_type": "stream",
     "text": [
      "[WDM] - Current google-chrome version is 84.0.4147\n",
      "[WDM] - Get LATEST driver version for 84.0.4147\n",
      "[WDM] - Driver [C:\\Users\\racha\\.wdm\\drivers\\chromedriver\\win32\\84.0.4147.30\\chromedriver.exe] found in cache\n"
     ]
    },
    {
     "name": "stdout",
     "output_type": "stream",
     "text": [
      " \n"
     ]
    },
    {
     "name": "stderr",
     "output_type": "stream",
     "text": [
      "[WDM] - Current google-chrome version is 84.0.4147\n",
      "[WDM] - Get LATEST driver version for 84.0.4147\n",
      "[WDM] - Driver [C:\\Users\\racha\\.wdm\\drivers\\chromedriver\\win32\\84.0.4147.30\\chromedriver.exe] found in cache\n"
     ]
    },
    {
     "name": "stdout",
     "output_type": "stream",
     "text": [
      " \n"
     ]
    },
    {
     "name": "stderr",
     "output_type": "stream",
     "text": [
      "[WDM] - Current google-chrome version is 84.0.4147\n",
      "[WDM] - Get LATEST driver version for 84.0.4147\n",
      "[WDM] - Driver [C:\\Users\\racha\\.wdm\\drivers\\chromedriver\\win32\\84.0.4147.30\\chromedriver.exe] found in cache\n"
     ]
    },
    {
     "name": "stdout",
     "output_type": "stream",
     "text": [
      " \n"
     ]
    },
    {
     "name": "stderr",
     "output_type": "stream",
     "text": [
      "[WDM] - Current google-chrome version is 84.0.4147\n",
      "[WDM] - Get LATEST driver version for 84.0.4147\n",
      "[WDM] - Driver [C:\\Users\\racha\\.wdm\\drivers\\chromedriver\\win32\\84.0.4147.30\\chromedriver.exe] found in cache\n"
     ]
    },
    {
     "name": "stdout",
     "output_type": "stream",
     "text": [
      " \n"
     ]
    },
    {
     "name": "stderr",
     "output_type": "stream",
     "text": [
      "[WDM] - Current google-chrome version is 84.0.4147\n",
      "[WDM] - Get LATEST driver version for 84.0.4147\n",
      "[WDM] - Driver [C:\\Users\\racha\\.wdm\\drivers\\chromedriver\\win32\\84.0.4147.30\\chromedriver.exe] found in cache\n"
     ]
    },
    {
     "name": "stdout",
     "output_type": "stream",
     "text": [
      " \n"
     ]
    },
    {
     "name": "stderr",
     "output_type": "stream",
     "text": [
      "[WDM] - Current google-chrome version is 84.0.4147\n",
      "[WDM] - Get LATEST driver version for 84.0.4147\n",
      "[WDM] - Driver [C:\\Users\\racha\\.wdm\\drivers\\chromedriver\\win32\\84.0.4147.30\\chromedriver.exe] found in cache\n"
     ]
    },
    {
     "name": "stdout",
     "output_type": "stream",
     "text": [
      " \n"
     ]
    },
    {
     "name": "stderr",
     "output_type": "stream",
     "text": [
      "[WDM] - Current google-chrome version is 84.0.4147\n",
      "[WDM] - Get LATEST driver version for 84.0.4147\n",
      "[WDM] - Driver [C:\\Users\\racha\\.wdm\\drivers\\chromedriver\\win32\\84.0.4147.30\\chromedriver.exe] found in cache\n"
     ]
    },
    {
     "name": "stdout",
     "output_type": "stream",
     "text": [
      " \n"
     ]
    },
    {
     "name": "stderr",
     "output_type": "stream",
     "text": [
      "[WDM] - Current google-chrome version is 84.0.4147\n",
      "[WDM] - Get LATEST driver version for 84.0.4147\n",
      "[WDM] - Driver [C:\\Users\\racha\\.wdm\\drivers\\chromedriver\\win32\\84.0.4147.30\\chromedriver.exe] found in cache\n"
     ]
    },
    {
     "name": "stdout",
     "output_type": "stream",
     "text": [
      " \n"
     ]
    },
    {
     "name": "stderr",
     "output_type": "stream",
     "text": [
      "[WDM] - Current google-chrome version is 84.0.4147\n",
      "[WDM] - Get LATEST driver version for 84.0.4147\n",
      "[WDM] - Driver [C:\\Users\\racha\\.wdm\\drivers\\chromedriver\\win32\\84.0.4147.30\\chromedriver.exe] found in cache\n"
     ]
    },
    {
     "name": "stdout",
     "output_type": "stream",
     "text": [
      " \n"
     ]
    },
    {
     "name": "stderr",
     "output_type": "stream",
     "text": [
      "[WDM] - Current google-chrome version is 84.0.4147\n",
      "[WDM] - Get LATEST driver version for 84.0.4147\n",
      "[WDM] - Driver [C:\\Users\\racha\\.wdm\\drivers\\chromedriver\\win32\\84.0.4147.30\\chromedriver.exe] found in cache\n"
     ]
    },
    {
     "name": "stdout",
     "output_type": "stream",
     "text": [
      " \n"
     ]
    },
    {
     "name": "stderr",
     "output_type": "stream",
     "text": [
      "[WDM] - Current google-chrome version is 84.0.4147\n",
      "[WDM] - Get LATEST driver version for 84.0.4147\n",
      "[WDM] - Driver [C:\\Users\\racha\\.wdm\\drivers\\chromedriver\\win32\\84.0.4147.30\\chromedriver.exe] found in cache\n"
     ]
    },
    {
     "name": "stdout",
     "output_type": "stream",
     "text": [
      " \n"
     ]
    },
    {
     "name": "stderr",
     "output_type": "stream",
     "text": [
      "[WDM] - Current google-chrome version is 84.0.4147\n",
      "[WDM] - Get LATEST driver version for 84.0.4147\n",
      "[WDM] - Driver [C:\\Users\\racha\\.wdm\\drivers\\chromedriver\\win32\\84.0.4147.30\\chromedriver.exe] found in cache\n"
     ]
    },
    {
     "name": "stdout",
     "output_type": "stream",
     "text": [
      " \n"
     ]
    },
    {
     "name": "stderr",
     "output_type": "stream",
     "text": [
      "[WDM] - Current google-chrome version is 84.0.4147\n",
      "[WDM] - Get LATEST driver version for 84.0.4147\n"
     ]
    },
    {
     "name": "stdout",
     "output_type": "stream",
     "text": [
      " \n"
     ]
    },
    {
     "name": "stderr",
     "output_type": "stream",
     "text": [
      "[WDM] - Driver [C:\\Users\\racha\\.wdm\\drivers\\chromedriver\\win32\\84.0.4147.30\\chromedriver.exe] found in cache\n",
      "[WDM] - Current google-chrome version is 84.0.4147\n",
      "[WDM] - Get LATEST driver version for 84.0.4147\n",
      "[WDM] - Driver [C:\\Users\\racha\\.wdm\\drivers\\chromedriver\\win32\\84.0.4147.30\\chromedriver.exe] found in cache\n"
     ]
    },
    {
     "name": "stdout",
     "output_type": "stream",
     "text": [
      " \n"
     ]
    },
    {
     "name": "stderr",
     "output_type": "stream",
     "text": [
      "[WDM] - Current google-chrome version is 84.0.4147\n",
      "[WDM] - Get LATEST driver version for 84.0.4147\n",
      "[WDM] - Driver [C:\\Users\\racha\\.wdm\\drivers\\chromedriver\\win32\\84.0.4147.30\\chromedriver.exe] found in cache\n"
     ]
    },
    {
     "name": "stdout",
     "output_type": "stream",
     "text": [
      " \n"
     ]
    },
    {
     "name": "stderr",
     "output_type": "stream",
     "text": [
      "[WDM] - Current google-chrome version is 84.0.4147\n",
      "[WDM] - Get LATEST driver version for 84.0.4147\n",
      "[WDM] - Driver [C:\\Users\\racha\\.wdm\\drivers\\chromedriver\\win32\\84.0.4147.30\\chromedriver.exe] found in cache\n"
     ]
    },
    {
     "name": "stdout",
     "output_type": "stream",
     "text": [
      " \n"
     ]
    },
    {
     "name": "stderr",
     "output_type": "stream",
     "text": [
      "[WDM] - Current google-chrome version is 84.0.4147\n",
      "[WDM] - Get LATEST driver version for 84.0.4147\n",
      "[WDM] - Driver [C:\\Users\\racha\\.wdm\\drivers\\chromedriver\\win32\\84.0.4147.30\\chromedriver.exe] found in cache\n"
     ]
    },
    {
     "name": "stdout",
     "output_type": "stream",
     "text": [
      " \n"
     ]
    },
    {
     "name": "stderr",
     "output_type": "stream",
     "text": [
      "[WDM] - Current google-chrome version is 84.0.4147\n",
      "[WDM] - Get LATEST driver version for 84.0.4147\n",
      "[WDM] - Driver [C:\\Users\\racha\\.wdm\\drivers\\chromedriver\\win32\\84.0.4147.30\\chromedriver.exe] found in cache\n"
     ]
    },
    {
     "name": "stdout",
     "output_type": "stream",
     "text": [
      " \n"
     ]
    },
    {
     "name": "stderr",
     "output_type": "stream",
     "text": [
      "[WDM] - Current google-chrome version is 84.0.4147\n",
      "[WDM] - Get LATEST driver version for 84.0.4147\n",
      "[WDM] - Driver [C:\\Users\\racha\\.wdm\\drivers\\chromedriver\\win32\\84.0.4147.30\\chromedriver.exe] found in cache\n"
     ]
    },
    {
     "name": "stdout",
     "output_type": "stream",
     "text": [
      " \n"
     ]
    },
    {
     "name": "stderr",
     "output_type": "stream",
     "text": [
      "[WDM] - Current google-chrome version is 84.0.4147\n",
      "[WDM] - Get LATEST driver version for 84.0.4147\n",
      "[WDM] - Driver [C:\\Users\\racha\\.wdm\\drivers\\chromedriver\\win32\\84.0.4147.30\\chromedriver.exe] found in cache\n"
     ]
    },
    {
     "name": "stdout",
     "output_type": "stream",
     "text": [
      " \n"
     ]
    },
    {
     "name": "stderr",
     "output_type": "stream",
     "text": [
      "[WDM] - Current google-chrome version is 84.0.4147\n",
      "[WDM] - Get LATEST driver version for 84.0.4147\n",
      "[WDM] - Driver [C:\\Users\\racha\\.wdm\\drivers\\chromedriver\\win32\\84.0.4147.30\\chromedriver.exe] found in cache\n"
     ]
    },
    {
     "name": "stdout",
     "output_type": "stream",
     "text": [
      " \n"
     ]
    },
    {
     "name": "stderr",
     "output_type": "stream",
     "text": [
      "[WDM] - Current google-chrome version is 84.0.4147\n",
      "[WDM] - Get LATEST driver version for 84.0.4147\n",
      "[WDM] - Driver [C:\\Users\\racha\\.wdm\\drivers\\chromedriver\\win32\\84.0.4147.30\\chromedriver.exe] found in cache\n"
     ]
    },
    {
     "name": "stdout",
     "output_type": "stream",
     "text": [
      " \n"
     ]
    },
    {
     "name": "stderr",
     "output_type": "stream",
     "text": [
      "[WDM] - Current google-chrome version is 84.0.4147\n",
      "[WDM] - Get LATEST driver version for 84.0.4147\n",
      "[WDM] - Driver [C:\\Users\\racha\\.wdm\\drivers\\chromedriver\\win32\\84.0.4147.30\\chromedriver.exe] found in cache\n"
     ]
    },
    {
     "name": "stdout",
     "output_type": "stream",
     "text": [
      " \n"
     ]
    },
    {
     "name": "stderr",
     "output_type": "stream",
     "text": [
      "[WDM] - Current google-chrome version is 84.0.4147\n",
      "[WDM] - Get LATEST driver version for 84.0.4147\n",
      "[WDM] - Driver [C:\\Users\\racha\\.wdm\\drivers\\chromedriver\\win32\\84.0.4147.30\\chromedriver.exe] found in cache\n"
     ]
    },
    {
     "name": "stdout",
     "output_type": "stream",
     "text": [
      " \n"
     ]
    },
    {
     "name": "stderr",
     "output_type": "stream",
     "text": [
      "[WDM] - Current google-chrome version is 84.0.4147\n",
      "[WDM] - Get LATEST driver version for 84.0.4147\n",
      "[WDM] - Driver [C:\\Users\\racha\\.wdm\\drivers\\chromedriver\\win32\\84.0.4147.30\\chromedriver.exe] found in cache\n"
     ]
    },
    {
     "name": "stdout",
     "output_type": "stream",
     "text": [
      " \n"
     ]
    },
    {
     "name": "stderr",
     "output_type": "stream",
     "text": [
      "[WDM] - Current google-chrome version is 84.0.4147\n",
      "[WDM] - Get LATEST driver version for 84.0.4147\n",
      "[WDM] - Driver [C:\\Users\\racha\\.wdm\\drivers\\chromedriver\\win32\\84.0.4147.30\\chromedriver.exe] found in cache\n"
     ]
    },
    {
     "name": "stdout",
     "output_type": "stream",
     "text": [
      " \n"
     ]
    },
    {
     "name": "stderr",
     "output_type": "stream",
     "text": [
      "[WDM] - Current google-chrome version is 84.0.4147\n",
      "[WDM] - Get LATEST driver version for 84.0.4147\n",
      "[WDM] - Driver [C:\\Users\\racha\\.wdm\\drivers\\chromedriver\\win32\\84.0.4147.30\\chromedriver.exe] found in cache\n"
     ]
    },
    {
     "name": "stdout",
     "output_type": "stream",
     "text": [
      " \n"
     ]
    },
    {
     "name": "stderr",
     "output_type": "stream",
     "text": [
      "[WDM] - Current google-chrome version is 84.0.4147\n",
      "[WDM] - Get LATEST driver version for 84.0.4147\n",
      "[WDM] - Driver [C:\\Users\\racha\\.wdm\\drivers\\chromedriver\\win32\\84.0.4147.30\\chromedriver.exe] found in cache\n"
     ]
    },
    {
     "name": "stdout",
     "output_type": "stream",
     "text": [
      " \n"
     ]
    },
    {
     "ename": "AttributeError",
     "evalue": "'NoneType' object has no attribute 'text'",
     "output_type": "error",
     "traceback": [
      "\u001b[1;31m---------------------------------------------------------------------------\u001b[0m",
      "\u001b[1;31mAttributeError\u001b[0m                            Traceback (most recent call last)",
      "\u001b[1;32m<ipython-input-11-3ac1393a8d51>\u001b[0m in \u001b[0;36m<module>\u001b[1;34m\u001b[0m\n\u001b[0;32m     10\u001b[0m     \u001b[0msoup\u001b[0m \u001b[1;33m=\u001b[0m \u001b[0mBeautifulSoup\u001b[0m\u001b[1;33m(\u001b[0m\u001b[0mresponse\u001b[0m\u001b[1;33m.\u001b[0m\u001b[0mtext\u001b[0m\u001b[1;33m,\u001b[0m \u001b[1;34m'html.parser'\u001b[0m\u001b[1;33m)\u001b[0m\u001b[1;33m\u001b[0m\u001b[1;33m\u001b[0m\u001b[0m\n\u001b[0;32m     11\u001b[0m     \u001b[0mdata\u001b[0m \u001b[1;33m=\u001b[0m \u001b[0msoup\u001b[0m\u001b[1;33m.\u001b[0m\u001b[0mfind\u001b[0m\u001b[1;33m(\u001b[0m\u001b[1;34m'small'\u001b[0m\u001b[1;33m,\u001b[0m \u001b[0mclass_\u001b[0m\u001b[1;33m=\u001b[0m\u001b[1;34m\"product-id meta quiet p_txt-sm\"\u001b[0m\u001b[1;33m)\u001b[0m\u001b[1;33m\u001b[0m\u001b[1;33m\u001b[0m\u001b[0m\n\u001b[1;32m---> 12\u001b[1;33m     \u001b[0mmodel_text\u001b[0m \u001b[1;33m=\u001b[0m \u001b[0mdata\u001b[0m\u001b[1;33m.\u001b[0m\u001b[0mtext\u001b[0m\u001b[1;33m\u001b[0m\u001b[1;33m\u001b[0m\u001b[0m\n\u001b[0m\u001b[0;32m     13\u001b[0m     \u001b[0mModel\u001b[0m\u001b[1;33m.\u001b[0m\u001b[0mappend\u001b[0m\u001b[1;33m(\u001b[0m\u001b[0mmodel_text\u001b[0m\u001b[1;33m)\u001b[0m\u001b[1;33m\u001b[0m\u001b[1;33m\u001b[0m\u001b[0m\n\u001b[0;32m     14\u001b[0m     \u001b[0msleep\u001b[0m\u001b[1;33m(\u001b[0m\u001b[1;36m2\u001b[0m\u001b[1;33m)\u001b[0m\u001b[1;33m\u001b[0m\u001b[1;33m\u001b[0m\u001b[0m\n",
      "\u001b[1;31mAttributeError\u001b[0m: 'NoneType' object has no attribute 'text'"
     ]
    }
   ],
   "source": [
    "Model = []\n",
    " \n",
    "for i in range(len(link_list)):\n",
    "    url = link_list[i]\n",
    "    response = requests.get(url)\n",
    "    executable_path = {'executable_path': ChromeDriverManager().install()}\n",
    "    browser = Browser('chrome', **executable_path, headless=True)\n",
    "    browser.visit(url)\n",
    "    # Create BeautifulSoup object; parse with 'html.parser'\n",
    "    soup = BeautifulSoup(response.text, 'html.parser')\n",
    "    data = soup.find('small', class_=\"product-id meta quiet p_txt-sm\")\n",
    "    model_text = data.text\n",
    "    Model.append(model_text)\n",
    "    sleep(2)\n"
   ]
  },
  {
   "cell_type": "code",
   "execution_count": 12,
   "metadata": {},
   "outputs": [
    {
     "data": {
      "text/plain": [
       "125"
      ]
     },
     "execution_count": 12,
     "metadata": {},
     "output_type": "execute_result"
    }
   ],
   "source": [
    "len(Model)"
   ]
  },
  {
   "cell_type": "code",
   "execution_count": 13,
   "metadata": {},
   "outputs": [
    {
     "data": {
      "text/plain": [
       "['10001325',\n",
       " '4151277',\n",
       " '73588T',\n",
       " 'BBANIMAL',\n",
       " 'FWM45',\n",
       " 'ARM-560CDA-AU',\n",
       " 'KD65X9500H',\n",
       " '65S8',\n",
       " '55NANO80TNA',\n",
       " '75S8',\n",
       " '65C715',\n",
       " 'QA75Q60TAWXXY',\n",
       " 'KD55X8000H',\n",
       " 'QA65LS03TAWXXY',\n",
       " 'QA82Q800TAWXXY',\n",
       " 'QA75Q800TAWXXY',\n",
       " 'QA65Q800TAWXXY',\n",
       " 'QA75Q95TAWXXY',\n",
       " 'QA55Q95TAWXXY',\n",
       " 'QA75Q80TAWXXY',\n",
       " 'QA65Q80TAWXXY',\n",
       " 'QA55Q80TAWXXY',\n",
       " 'QA85Q70TAWXXY',\n",
       " 'QA75Q70TAWXXY',\n",
       " 'QA65Q70TAWXXY',\n",
       " 'OLED55CXPTA',\n",
       " 'OLED65CXPTA',\n",
       " 'OLED77CXPTA',\n",
       " '65NANO99TNA',\n",
       " '75NANO99TNA',\n",
       " '65NANO80TNA',\n",
       " '65NANO86TNA',\n",
       " '65NANO91TNA',\n",
       " '75NANO91TNA',\n",
       " '65NANO95TNA',\n",
       " '75NANO95TNA',\n",
       " 'KD75X9500H',\n",
       " '75Q8',\n",
       " '65Q8',\n",
       " '55Q8',\n",
       " 'QA75LS03TAWXXY',\n",
       " 'QA55LS03TAWXXY',\n",
       " 'QA85Q950TSWXXY',\n",
       " 'QA75Q950TSWXXY',\n",
       " 'QA65Q950TSWXXY',\n",
       " '100P715',\n",
       " '10001325',\n",
       " '4151277',\n",
       " '73588T',\n",
       " 'BBANIMAL',\n",
       " 'FWM45',\n",
       " 'ARM-560CDA-AU',\n",
       " 'KD65X9500H',\n",
       " '65S8',\n",
       " '55NANO80TNA',\n",
       " '75S8',\n",
       " '65C715',\n",
       " 'QA75Q60TAWXXY',\n",
       " 'KD55X8000H',\n",
       " 'QA65LS03TAWXXY',\n",
       " 'QA82Q800TAWXXY',\n",
       " 'QA75Q800TAWXXY',\n",
       " 'QA65Q800TAWXXY',\n",
       " 'QA75Q95TAWXXY',\n",
       " 'QA55Q95TAWXXY',\n",
       " 'QA75Q80TAWXXY',\n",
       " 'QA65Q80TAWXXY',\n",
       " 'QA55Q80TAWXXY',\n",
       " 'QA85Q70TAWXXY',\n",
       " 'QA75Q70TAWXXY',\n",
       " 'QA65Q70TAWXXY',\n",
       " 'OLED55CXPTA',\n",
       " 'OLED65CXPTA',\n",
       " 'OLED77CXPTA',\n",
       " '65NANO99TNA',\n",
       " '75NANO99TNA',\n",
       " '65NANO80TNA',\n",
       " '65NANO86TNA',\n",
       " '65NANO91TNA',\n",
       " '75NANO91TNA',\n",
       " '65NANO95TNA',\n",
       " '75NANO95TNA',\n",
       " 'KD75X9500H',\n",
       " '75Q8',\n",
       " '65Q8',\n",
       " '55Q8',\n",
       " 'QA75LS03TAWXXY',\n",
       " 'QA55LS03TAWXXY',\n",
       " 'QA85Q950TSWXXY',\n",
       " 'QA75Q950TSWXXY',\n",
       " 'QA65Q950TSWXXY',\n",
       " '100P715',\n",
       " '10001325',\n",
       " '4151277',\n",
       " '73588T',\n",
       " 'BBANIMAL',\n",
       " 'FWM45',\n",
       " 'ARM-560CDA-AU',\n",
       " 'KD65X9500H',\n",
       " '65S8',\n",
       " '55NANO80TNA',\n",
       " '75S8',\n",
       " '65C715',\n",
       " 'QA75Q60TAWXXY',\n",
       " 'KD55X8000H',\n",
       " 'QA65LS03TAWXXY',\n",
       " 'QA82Q800TAWXXY',\n",
       " 'QA75Q800TAWXXY',\n",
       " 'QA65Q800TAWXXY',\n",
       " 'QA75Q95TAWXXY',\n",
       " 'QA55Q95TAWXXY',\n",
       " 'QA75Q80TAWXXY',\n",
       " 'QA65Q80TAWXXY',\n",
       " 'QA55Q80TAWXXY',\n",
       " 'QA85Q70TAWXXY',\n",
       " 'QA75Q70TAWXXY',\n",
       " 'QA65Q70TAWXXY',\n",
       " 'OLED55CXPTA',\n",
       " 'OLED65CXPTA',\n",
       " 'OLED77CXPTA',\n",
       " '65NANO99TNA',\n",
       " '75NANO99TNA',\n",
       " '65NANO80TNA',\n",
       " '65NANO86TNA',\n",
       " '65NANO91TNA']"
      ]
     },
     "execution_count": 13,
     "metadata": {},
     "output_type": "execute_result"
    }
   ],
   "source": [
    "Model"
   ]
  },
  {
   "cell_type": "code",
   "execution_count": 14,
   "metadata": {},
   "outputs": [],
   "source": [
    "df = pd.DataFrame(list(zip(link_list, Model)), columns = [\"links\", \"Model\"])"
   ]
  },
  {
   "cell_type": "code",
   "execution_count": 16,
   "metadata": {
    "scrolled": false
   },
   "outputs": [
    {
     "data": {
      "text/html": [
       "<div>\n",
       "<style scoped>\n",
       "    .dataframe tbody tr th:only-of-type {\n",
       "        vertical-align: middle;\n",
       "    }\n",
       "\n",
       "    .dataframe tbody tr th {\n",
       "        vertical-align: top;\n",
       "    }\n",
       "\n",
       "    .dataframe thead th {\n",
       "        text-align: right;\n",
       "    }\n",
       "</style>\n",
       "<table border=\"1\" class=\"dataframe\">\n",
       "  <thead>\n",
       "    <tr style=\"text-align: right;\">\n",
       "      <th></th>\n",
       "      <th>links</th>\n",
       "      <th>Model</th>\n",
       "    </tr>\n",
       "  </thead>\n",
       "  <tbody>\n",
       "    <tr>\n",
       "      <th>0</th>\n",
       "      <td>https://www.harveynorman.com.au/disposable-3-p...</td>\n",
       "      <td>10001325</td>\n",
       "    </tr>\n",
       "    <tr>\n",
       "      <th>1</th>\n",
       "      <td>https://www.harveynorman.com.au/jbl-t600btnc-w...</td>\n",
       "      <td>4151277</td>\n",
       "    </tr>\n",
       "    <tr>\n",
       "      <th>2</th>\n",
       "      <td>https://www.harveynorman.com.au/noirot-2400w-s...</td>\n",
       "      <td>73588T</td>\n",
       "    </tr>\n",
       "    <tr>\n",
       "      <th>3</th>\n",
       "      <td>https://www.harveynorman.com.au/dyson-cinetic-...</td>\n",
       "      <td>BBANIMAL</td>\n",
       "    </tr>\n",
       "    <tr>\n",
       "      <th>4</th>\n",
       "      <td>https://www.harveynorman.com.au/beurer-fwm-45-...</td>\n",
       "      <td>FWM45</td>\n",
       "    </tr>\n",
       "    <tr>\n",
       "      <th>5</th>\n",
       "      <td>https://www.harveynorman.com.au/homedics-ellia...</td>\n",
       "      <td>ARM-560CDA-AU</td>\n",
       "    </tr>\n",
       "    <tr>\n",
       "      <th>6</th>\n",
       "      <td>https://www.harveynorman.com.au/sony-65-inch-x...</td>\n",
       "      <td>KD65X9500H</td>\n",
       "    </tr>\n",
       "    <tr>\n",
       "      <th>7</th>\n",
       "      <td>https://www.harveynorman.com.au/hisense-65-inc...</td>\n",
       "      <td>65S8</td>\n",
       "    </tr>\n",
       "    <tr>\n",
       "      <th>8</th>\n",
       "      <td>https://www.harveynorman.com.au/lg-55-inch-nan...</td>\n",
       "      <td>55NANO80TNA</td>\n",
       "    </tr>\n",
       "    <tr>\n",
       "      <th>9</th>\n",
       "      <td>https://www.harveynorman.com.au/hisense-75-inc...</td>\n",
       "      <td>75S8</td>\n",
       "    </tr>\n",
       "    <tr>\n",
       "      <th>10</th>\n",
       "      <td>https://www.harveynorman.com.au/tcl-65-inch-c7...</td>\n",
       "      <td>65C715</td>\n",
       "    </tr>\n",
       "    <tr>\n",
       "      <th>11</th>\n",
       "      <td>https://www.harveynorman.com.au/samsung-75-inc...</td>\n",
       "      <td>QA75Q60TAWXXY</td>\n",
       "    </tr>\n",
       "    <tr>\n",
       "      <th>12</th>\n",
       "      <td>https://www.harveynorman.com.au/sony-55-inch-x...</td>\n",
       "      <td>KD55X8000H</td>\n",
       "    </tr>\n",
       "    <tr>\n",
       "      <th>13</th>\n",
       "      <td>https://www.harveynorman.com.au/samsung-65-inc...</td>\n",
       "      <td>QA65LS03TAWXXY</td>\n",
       "    </tr>\n",
       "    <tr>\n",
       "      <th>14</th>\n",
       "      <td>https://www.harveynorman.com.au/samsung-82-inc...</td>\n",
       "      <td>QA82Q800TAWXXY</td>\n",
       "    </tr>\n",
       "    <tr>\n",
       "      <th>15</th>\n",
       "      <td>https://www.harveynorman.com.au/samsung-75-inc...</td>\n",
       "      <td>QA75Q800TAWXXY</td>\n",
       "    </tr>\n",
       "    <tr>\n",
       "      <th>16</th>\n",
       "      <td>https://www.harveynorman.com.au/samsung-65-inc...</td>\n",
       "      <td>QA65Q800TAWXXY</td>\n",
       "    </tr>\n",
       "    <tr>\n",
       "      <th>17</th>\n",
       "      <td>https://www.harveynorman.com.au/samsung-75-inc...</td>\n",
       "      <td>QA75Q95TAWXXY</td>\n",
       "    </tr>\n",
       "    <tr>\n",
       "      <th>18</th>\n",
       "      <td>https://www.harveynorman.com.au/samsung-55-inc...</td>\n",
       "      <td>QA55Q95TAWXXY</td>\n",
       "    </tr>\n",
       "    <tr>\n",
       "      <th>19</th>\n",
       "      <td>https://www.harveynorman.com.au/samsung-75-inc...</td>\n",
       "      <td>QA75Q80TAWXXY</td>\n",
       "    </tr>\n",
       "    <tr>\n",
       "      <th>20</th>\n",
       "      <td>https://www.harveynorman.com.au/samsung-65-inc...</td>\n",
       "      <td>QA65Q80TAWXXY</td>\n",
       "    </tr>\n",
       "    <tr>\n",
       "      <th>21</th>\n",
       "      <td>https://www.harveynorman.com.au/samsung-55-inc...</td>\n",
       "      <td>QA55Q80TAWXXY</td>\n",
       "    </tr>\n",
       "    <tr>\n",
       "      <th>22</th>\n",
       "      <td>https://www.harveynorman.com.au/samsung-85-inc...</td>\n",
       "      <td>QA85Q70TAWXXY</td>\n",
       "    </tr>\n",
       "    <tr>\n",
       "      <th>23</th>\n",
       "      <td>https://www.harveynorman.com.au/samsung-75-inc...</td>\n",
       "      <td>QA75Q70TAWXXY</td>\n",
       "    </tr>\n",
       "    <tr>\n",
       "      <th>24</th>\n",
       "      <td>https://www.harveynorman.com.au/samsung-65-inc...</td>\n",
       "      <td>QA65Q70TAWXXY</td>\n",
       "    </tr>\n",
       "    <tr>\n",
       "      <th>25</th>\n",
       "      <td>https://www.harveynorman.com.au/lg-55-inch-cx-...</td>\n",
       "      <td>OLED55CXPTA</td>\n",
       "    </tr>\n",
       "    <tr>\n",
       "      <th>26</th>\n",
       "      <td>https://www.harveynorman.com.au/lg-65-inch-cx-...</td>\n",
       "      <td>OLED65CXPTA</td>\n",
       "    </tr>\n",
       "    <tr>\n",
       "      <th>27</th>\n",
       "      <td>https://www.harveynorman.com.au/lg-77-inch-cx-...</td>\n",
       "      <td>OLED77CXPTA</td>\n",
       "    </tr>\n",
       "    <tr>\n",
       "      <th>28</th>\n",
       "      <td>https://www.harveynorman.com.au/lg-65-inch-nan...</td>\n",
       "      <td>65NANO99TNA</td>\n",
       "    </tr>\n",
       "    <tr>\n",
       "      <th>29</th>\n",
       "      <td>https://www.harveynorman.com.au/lg-75-inch-nan...</td>\n",
       "      <td>75NANO99TNA</td>\n",
       "    </tr>\n",
       "    <tr>\n",
       "      <th>30</th>\n",
       "      <td>https://www.harveynorman.com.au/65-nanocell-10...</td>\n",
       "      <td>65NANO80TNA</td>\n",
       "    </tr>\n",
       "    <tr>\n",
       "      <th>31</th>\n",
       "      <td>https://www.harveynorman.com.au/lg-65-inch-nan...</td>\n",
       "      <td>65NANO86TNA</td>\n",
       "    </tr>\n",
       "    <tr>\n",
       "      <th>32</th>\n",
       "      <td>https://www.harveynorman.com.au/lg-65-inch-nan...</td>\n",
       "      <td>65NANO91TNA</td>\n",
       "    </tr>\n",
       "    <tr>\n",
       "      <th>33</th>\n",
       "      <td>https://www.harveynorman.com.au/lg-75-inch-nan...</td>\n",
       "      <td>75NANO91TNA</td>\n",
       "    </tr>\n",
       "    <tr>\n",
       "      <th>34</th>\n",
       "      <td>https://www.harveynorman.com.au/lg-65-inch-nan...</td>\n",
       "      <td>65NANO95TNA</td>\n",
       "    </tr>\n",
       "    <tr>\n",
       "      <th>35</th>\n",
       "      <td>https://www.harveynorman.com.au/lg-75-inch-nan...</td>\n",
       "      <td>75NANO95TNA</td>\n",
       "    </tr>\n",
       "    <tr>\n",
       "      <th>36</th>\n",
       "      <td>https://www.harveynorman.com.au/sony-75-inch-x...</td>\n",
       "      <td>KD75X9500H</td>\n",
       "    </tr>\n",
       "    <tr>\n",
       "      <th>37</th>\n",
       "      <td>https://www.harveynorman.com.au/hisense-75-inc...</td>\n",
       "      <td>75Q8</td>\n",
       "    </tr>\n",
       "    <tr>\n",
       "      <th>38</th>\n",
       "      <td>https://www.harveynorman.com.au/hisense-65-inc...</td>\n",
       "      <td>65Q8</td>\n",
       "    </tr>\n",
       "    <tr>\n",
       "      <th>39</th>\n",
       "      <td>https://www.harveynorman.com.au/hisense-55-inc...</td>\n",
       "      <td>55Q8</td>\n",
       "    </tr>\n",
       "    <tr>\n",
       "      <th>40</th>\n",
       "      <td>https://www.harveynorman.com.au/samsung-75-inc...</td>\n",
       "      <td>QA75LS03TAWXXY</td>\n",
       "    </tr>\n",
       "    <tr>\n",
       "      <th>41</th>\n",
       "      <td>https://www.harveynorman.com.au/samsung-55-inc...</td>\n",
       "      <td>QA55LS03TAWXXY</td>\n",
       "    </tr>\n",
       "    <tr>\n",
       "      <th>42</th>\n",
       "      <td>https://www.harveynorman.com.au/samsung-85-inc...</td>\n",
       "      <td>QA85Q950TSWXXY</td>\n",
       "    </tr>\n",
       "    <tr>\n",
       "      <th>43</th>\n",
       "      <td>https://www.harveynorman.com.au/samsung-75-inc...</td>\n",
       "      <td>QA75Q950TSWXXY</td>\n",
       "    </tr>\n",
       "    <tr>\n",
       "      <th>44</th>\n",
       "      <td>https://www.harveynorman.com.au/samsung-65-inc...</td>\n",
       "      <td>QA65Q950TSWXXY</td>\n",
       "    </tr>\n",
       "    <tr>\n",
       "      <th>45</th>\n",
       "      <td>https://www.harveynorman.com.au/tcl-100-inch-p...</td>\n",
       "      <td>100P715</td>\n",
       "    </tr>\n",
       "    <tr>\n",
       "      <th>46</th>\n",
       "      <td>https://www.harveynorman.com.au/disposable-3-p...</td>\n",
       "      <td>10001325</td>\n",
       "    </tr>\n",
       "    <tr>\n",
       "      <th>47</th>\n",
       "      <td>https://www.harveynorman.com.au/jbl-t600btnc-w...</td>\n",
       "      <td>4151277</td>\n",
       "    </tr>\n",
       "    <tr>\n",
       "      <th>48</th>\n",
       "      <td>https://www.harveynorman.com.au/noirot-2400w-s...</td>\n",
       "      <td>73588T</td>\n",
       "    </tr>\n",
       "    <tr>\n",
       "      <th>49</th>\n",
       "      <td>https://www.harveynorman.com.au/dyson-cinetic-...</td>\n",
       "      <td>BBANIMAL</td>\n",
       "    </tr>\n",
       "    <tr>\n",
       "      <th>50</th>\n",
       "      <td>https://www.harveynorman.com.au/beurer-fwm-45-...</td>\n",
       "      <td>FWM45</td>\n",
       "    </tr>\n",
       "    <tr>\n",
       "      <th>51</th>\n",
       "      <td>https://www.harveynorman.com.au/homedics-ellia...</td>\n",
       "      <td>ARM-560CDA-AU</td>\n",
       "    </tr>\n",
       "    <tr>\n",
       "      <th>52</th>\n",
       "      <td>https://www.harveynorman.com.au/sony-65-inch-x...</td>\n",
       "      <td>KD65X9500H</td>\n",
       "    </tr>\n",
       "    <tr>\n",
       "      <th>53</th>\n",
       "      <td>https://www.harveynorman.com.au/hisense-65-inc...</td>\n",
       "      <td>65S8</td>\n",
       "    </tr>\n",
       "    <tr>\n",
       "      <th>54</th>\n",
       "      <td>https://www.harveynorman.com.au/lg-55-inch-nan...</td>\n",
       "      <td>55NANO80TNA</td>\n",
       "    </tr>\n",
       "    <tr>\n",
       "      <th>55</th>\n",
       "      <td>https://www.harveynorman.com.au/hisense-75-inc...</td>\n",
       "      <td>75S8</td>\n",
       "    </tr>\n",
       "    <tr>\n",
       "      <th>56</th>\n",
       "      <td>https://www.harveynorman.com.au/tcl-65-inch-c7...</td>\n",
       "      <td>65C715</td>\n",
       "    </tr>\n",
       "    <tr>\n",
       "      <th>57</th>\n",
       "      <td>https://www.harveynorman.com.au/samsung-75-inc...</td>\n",
       "      <td>QA75Q60TAWXXY</td>\n",
       "    </tr>\n",
       "    <tr>\n",
       "      <th>58</th>\n",
       "      <td>https://www.harveynorman.com.au/sony-55-inch-x...</td>\n",
       "      <td>KD55X8000H</td>\n",
       "    </tr>\n",
       "    <tr>\n",
       "      <th>59</th>\n",
       "      <td>https://www.harveynorman.com.au/samsung-65-inc...</td>\n",
       "      <td>QA65LS03TAWXXY</td>\n",
       "    </tr>\n",
       "    <tr>\n",
       "      <th>60</th>\n",
       "      <td>https://www.harveynorman.com.au/samsung-82-inc...</td>\n",
       "      <td>QA82Q800TAWXXY</td>\n",
       "    </tr>\n",
       "    <tr>\n",
       "      <th>61</th>\n",
       "      <td>https://www.harveynorman.com.au/samsung-75-inc...</td>\n",
       "      <td>QA75Q800TAWXXY</td>\n",
       "    </tr>\n",
       "    <tr>\n",
       "      <th>62</th>\n",
       "      <td>https://www.harveynorman.com.au/samsung-65-inc...</td>\n",
       "      <td>QA65Q800TAWXXY</td>\n",
       "    </tr>\n",
       "    <tr>\n",
       "      <th>63</th>\n",
       "      <td>https://www.harveynorman.com.au/samsung-75-inc...</td>\n",
       "      <td>QA75Q95TAWXXY</td>\n",
       "    </tr>\n",
       "    <tr>\n",
       "      <th>64</th>\n",
       "      <td>https://www.harveynorman.com.au/samsung-55-inc...</td>\n",
       "      <td>QA55Q95TAWXXY</td>\n",
       "    </tr>\n",
       "    <tr>\n",
       "      <th>65</th>\n",
       "      <td>https://www.harveynorman.com.au/samsung-75-inc...</td>\n",
       "      <td>QA75Q80TAWXXY</td>\n",
       "    </tr>\n",
       "    <tr>\n",
       "      <th>66</th>\n",
       "      <td>https://www.harveynorman.com.au/samsung-65-inc...</td>\n",
       "      <td>QA65Q80TAWXXY</td>\n",
       "    </tr>\n",
       "    <tr>\n",
       "      <th>67</th>\n",
       "      <td>https://www.harveynorman.com.au/samsung-55-inc...</td>\n",
       "      <td>QA55Q80TAWXXY</td>\n",
       "    </tr>\n",
       "    <tr>\n",
       "      <th>68</th>\n",
       "      <td>https://www.harveynorman.com.au/samsung-85-inc...</td>\n",
       "      <td>QA85Q70TAWXXY</td>\n",
       "    </tr>\n",
       "    <tr>\n",
       "      <th>69</th>\n",
       "      <td>https://www.harveynorman.com.au/samsung-75-inc...</td>\n",
       "      <td>QA75Q70TAWXXY</td>\n",
       "    </tr>\n",
       "    <tr>\n",
       "      <th>70</th>\n",
       "      <td>https://www.harveynorman.com.au/samsung-65-inc...</td>\n",
       "      <td>QA65Q70TAWXXY</td>\n",
       "    </tr>\n",
       "    <tr>\n",
       "      <th>71</th>\n",
       "      <td>https://www.harveynorman.com.au/lg-55-inch-cx-...</td>\n",
       "      <td>OLED55CXPTA</td>\n",
       "    </tr>\n",
       "    <tr>\n",
       "      <th>72</th>\n",
       "      <td>https://www.harveynorman.com.au/lg-65-inch-cx-...</td>\n",
       "      <td>OLED65CXPTA</td>\n",
       "    </tr>\n",
       "    <tr>\n",
       "      <th>73</th>\n",
       "      <td>https://www.harveynorman.com.au/lg-77-inch-cx-...</td>\n",
       "      <td>OLED77CXPTA</td>\n",
       "    </tr>\n",
       "    <tr>\n",
       "      <th>74</th>\n",
       "      <td>https://www.harveynorman.com.au/lg-65-inch-nan...</td>\n",
       "      <td>65NANO99TNA</td>\n",
       "    </tr>\n",
       "    <tr>\n",
       "      <th>75</th>\n",
       "      <td>https://www.harveynorman.com.au/lg-75-inch-nan...</td>\n",
       "      <td>75NANO99TNA</td>\n",
       "    </tr>\n",
       "    <tr>\n",
       "      <th>76</th>\n",
       "      <td>https://www.harveynorman.com.au/65-nanocell-10...</td>\n",
       "      <td>65NANO80TNA</td>\n",
       "    </tr>\n",
       "    <tr>\n",
       "      <th>77</th>\n",
       "      <td>https://www.harveynorman.com.au/lg-65-inch-nan...</td>\n",
       "      <td>65NANO86TNA</td>\n",
       "    </tr>\n",
       "    <tr>\n",
       "      <th>78</th>\n",
       "      <td>https://www.harveynorman.com.au/lg-65-inch-nan...</td>\n",
       "      <td>65NANO91TNA</td>\n",
       "    </tr>\n",
       "    <tr>\n",
       "      <th>79</th>\n",
       "      <td>https://www.harveynorman.com.au/lg-75-inch-nan...</td>\n",
       "      <td>75NANO91TNA</td>\n",
       "    </tr>\n",
       "    <tr>\n",
       "      <th>80</th>\n",
       "      <td>https://www.harveynorman.com.au/lg-65-inch-nan...</td>\n",
       "      <td>65NANO95TNA</td>\n",
       "    </tr>\n",
       "    <tr>\n",
       "      <th>81</th>\n",
       "      <td>https://www.harveynorman.com.au/lg-75-inch-nan...</td>\n",
       "      <td>75NANO95TNA</td>\n",
       "    </tr>\n",
       "    <tr>\n",
       "      <th>82</th>\n",
       "      <td>https://www.harveynorman.com.au/sony-75-inch-x...</td>\n",
       "      <td>KD75X9500H</td>\n",
       "    </tr>\n",
       "    <tr>\n",
       "      <th>83</th>\n",
       "      <td>https://www.harveynorman.com.au/hisense-75-inc...</td>\n",
       "      <td>75Q8</td>\n",
       "    </tr>\n",
       "    <tr>\n",
       "      <th>84</th>\n",
       "      <td>https://www.harveynorman.com.au/hisense-65-inc...</td>\n",
       "      <td>65Q8</td>\n",
       "    </tr>\n",
       "    <tr>\n",
       "      <th>85</th>\n",
       "      <td>https://www.harveynorman.com.au/hisense-55-inc...</td>\n",
       "      <td>55Q8</td>\n",
       "    </tr>\n",
       "    <tr>\n",
       "      <th>86</th>\n",
       "      <td>https://www.harveynorman.com.au/samsung-75-inc...</td>\n",
       "      <td>QA75LS03TAWXXY</td>\n",
       "    </tr>\n",
       "    <tr>\n",
       "      <th>87</th>\n",
       "      <td>https://www.harveynorman.com.au/samsung-55-inc...</td>\n",
       "      <td>QA55LS03TAWXXY</td>\n",
       "    </tr>\n",
       "    <tr>\n",
       "      <th>88</th>\n",
       "      <td>https://www.harveynorman.com.au/samsung-85-inc...</td>\n",
       "      <td>QA85Q950TSWXXY</td>\n",
       "    </tr>\n",
       "    <tr>\n",
       "      <th>89</th>\n",
       "      <td>https://www.harveynorman.com.au/samsung-75-inc...</td>\n",
       "      <td>QA75Q950TSWXXY</td>\n",
       "    </tr>\n",
       "    <tr>\n",
       "      <th>90</th>\n",
       "      <td>https://www.harveynorman.com.au/samsung-65-inc...</td>\n",
       "      <td>QA65Q950TSWXXY</td>\n",
       "    </tr>\n",
       "    <tr>\n",
       "      <th>91</th>\n",
       "      <td>https://www.harveynorman.com.au/tcl-100-inch-p...</td>\n",
       "      <td>100P715</td>\n",
       "    </tr>\n",
       "    <tr>\n",
       "      <th>92</th>\n",
       "      <td>https://www.harveynorman.com.au/disposable-3-p...</td>\n",
       "      <td>10001325</td>\n",
       "    </tr>\n",
       "    <tr>\n",
       "      <th>93</th>\n",
       "      <td>https://www.harveynorman.com.au/jbl-t600btnc-w...</td>\n",
       "      <td>4151277</td>\n",
       "    </tr>\n",
       "    <tr>\n",
       "      <th>94</th>\n",
       "      <td>https://www.harveynorman.com.au/noirot-2400w-s...</td>\n",
       "      <td>73588T</td>\n",
       "    </tr>\n",
       "    <tr>\n",
       "      <th>95</th>\n",
       "      <td>https://www.harveynorman.com.au/dyson-cinetic-...</td>\n",
       "      <td>BBANIMAL</td>\n",
       "    </tr>\n",
       "    <tr>\n",
       "      <th>96</th>\n",
       "      <td>https://www.harveynorman.com.au/beurer-fwm-45-...</td>\n",
       "      <td>FWM45</td>\n",
       "    </tr>\n",
       "    <tr>\n",
       "      <th>97</th>\n",
       "      <td>https://www.harveynorman.com.au/homedics-ellia...</td>\n",
       "      <td>ARM-560CDA-AU</td>\n",
       "    </tr>\n",
       "    <tr>\n",
       "      <th>98</th>\n",
       "      <td>https://www.harveynorman.com.au/sony-65-inch-x...</td>\n",
       "      <td>KD65X9500H</td>\n",
       "    </tr>\n",
       "    <tr>\n",
       "      <th>99</th>\n",
       "      <td>https://www.harveynorman.com.au/hisense-65-inc...</td>\n",
       "      <td>65S8</td>\n",
       "    </tr>\n",
       "    <tr>\n",
       "      <th>100</th>\n",
       "      <td>https://www.harveynorman.com.au/lg-55-inch-nan...</td>\n",
       "      <td>55NANO80TNA</td>\n",
       "    </tr>\n",
       "    <tr>\n",
       "      <th>101</th>\n",
       "      <td>https://www.harveynorman.com.au/hisense-75-inc...</td>\n",
       "      <td>75S8</td>\n",
       "    </tr>\n",
       "    <tr>\n",
       "      <th>102</th>\n",
       "      <td>https://www.harveynorman.com.au/tcl-65-inch-c7...</td>\n",
       "      <td>65C715</td>\n",
       "    </tr>\n",
       "    <tr>\n",
       "      <th>103</th>\n",
       "      <td>https://www.harveynorman.com.au/samsung-75-inc...</td>\n",
       "      <td>QA75Q60TAWXXY</td>\n",
       "    </tr>\n",
       "    <tr>\n",
       "      <th>104</th>\n",
       "      <td>https://www.harveynorman.com.au/sony-55-inch-x...</td>\n",
       "      <td>KD55X8000H</td>\n",
       "    </tr>\n",
       "    <tr>\n",
       "      <th>105</th>\n",
       "      <td>https://www.harveynorman.com.au/samsung-65-inc...</td>\n",
       "      <td>QA65LS03TAWXXY</td>\n",
       "    </tr>\n",
       "    <tr>\n",
       "      <th>106</th>\n",
       "      <td>https://www.harveynorman.com.au/samsung-82-inc...</td>\n",
       "      <td>QA82Q800TAWXXY</td>\n",
       "    </tr>\n",
       "    <tr>\n",
       "      <th>107</th>\n",
       "      <td>https://www.harveynorman.com.au/samsung-75-inc...</td>\n",
       "      <td>QA75Q800TAWXXY</td>\n",
       "    </tr>\n",
       "    <tr>\n",
       "      <th>108</th>\n",
       "      <td>https://www.harveynorman.com.au/samsung-65-inc...</td>\n",
       "      <td>QA65Q800TAWXXY</td>\n",
       "    </tr>\n",
       "    <tr>\n",
       "      <th>109</th>\n",
       "      <td>https://www.harveynorman.com.au/samsung-75-inc...</td>\n",
       "      <td>QA75Q95TAWXXY</td>\n",
       "    </tr>\n",
       "    <tr>\n",
       "      <th>110</th>\n",
       "      <td>https://www.harveynorman.com.au/samsung-55-inc...</td>\n",
       "      <td>QA55Q95TAWXXY</td>\n",
       "    </tr>\n",
       "    <tr>\n",
       "      <th>111</th>\n",
       "      <td>https://www.harveynorman.com.au/samsung-75-inc...</td>\n",
       "      <td>QA75Q80TAWXXY</td>\n",
       "    </tr>\n",
       "    <tr>\n",
       "      <th>112</th>\n",
       "      <td>https://www.harveynorman.com.au/samsung-65-inc...</td>\n",
       "      <td>QA65Q80TAWXXY</td>\n",
       "    </tr>\n",
       "    <tr>\n",
       "      <th>113</th>\n",
       "      <td>https://www.harveynorman.com.au/samsung-55-inc...</td>\n",
       "      <td>QA55Q80TAWXXY</td>\n",
       "    </tr>\n",
       "    <tr>\n",
       "      <th>114</th>\n",
       "      <td>https://www.harveynorman.com.au/samsung-85-inc...</td>\n",
       "      <td>QA85Q70TAWXXY</td>\n",
       "    </tr>\n",
       "    <tr>\n",
       "      <th>115</th>\n",
       "      <td>https://www.harveynorman.com.au/samsung-75-inc...</td>\n",
       "      <td>QA75Q70TAWXXY</td>\n",
       "    </tr>\n",
       "    <tr>\n",
       "      <th>116</th>\n",
       "      <td>https://www.harveynorman.com.au/samsung-65-inc...</td>\n",
       "      <td>QA65Q70TAWXXY</td>\n",
       "    </tr>\n",
       "    <tr>\n",
       "      <th>117</th>\n",
       "      <td>https://www.harveynorman.com.au/lg-55-inch-cx-...</td>\n",
       "      <td>OLED55CXPTA</td>\n",
       "    </tr>\n",
       "    <tr>\n",
       "      <th>118</th>\n",
       "      <td>https://www.harveynorman.com.au/lg-65-inch-cx-...</td>\n",
       "      <td>OLED65CXPTA</td>\n",
       "    </tr>\n",
       "    <tr>\n",
       "      <th>119</th>\n",
       "      <td>https://www.harveynorman.com.au/lg-77-inch-cx-...</td>\n",
       "      <td>OLED77CXPTA</td>\n",
       "    </tr>\n",
       "    <tr>\n",
       "      <th>120</th>\n",
       "      <td>https://www.harveynorman.com.au/lg-65-inch-nan...</td>\n",
       "      <td>65NANO99TNA</td>\n",
       "    </tr>\n",
       "    <tr>\n",
       "      <th>121</th>\n",
       "      <td>https://www.harveynorman.com.au/lg-75-inch-nan...</td>\n",
       "      <td>75NANO99TNA</td>\n",
       "    </tr>\n",
       "    <tr>\n",
       "      <th>122</th>\n",
       "      <td>https://www.harveynorman.com.au/65-nanocell-10...</td>\n",
       "      <td>65NANO80TNA</td>\n",
       "    </tr>\n",
       "    <tr>\n",
       "      <th>123</th>\n",
       "      <td>https://www.harveynorman.com.au/lg-65-inch-nan...</td>\n",
       "      <td>65NANO86TNA</td>\n",
       "    </tr>\n",
       "    <tr>\n",
       "      <th>124</th>\n",
       "      <td>https://www.harveynorman.com.au/lg-65-inch-nan...</td>\n",
       "      <td>65NANO91TNA</td>\n",
       "    </tr>\n",
       "  </tbody>\n",
       "</table>\n",
       "</div>"
      ],
      "text/plain": [
       "                                                 links           Model\n",
       "0    https://www.harveynorman.com.au/disposable-3-p...        10001325\n",
       "1    https://www.harveynorman.com.au/jbl-t600btnc-w...         4151277\n",
       "2    https://www.harveynorman.com.au/noirot-2400w-s...          73588T\n",
       "3    https://www.harveynorman.com.au/dyson-cinetic-...        BBANIMAL\n",
       "4    https://www.harveynorman.com.au/beurer-fwm-45-...           FWM45\n",
       "5    https://www.harveynorman.com.au/homedics-ellia...   ARM-560CDA-AU\n",
       "6    https://www.harveynorman.com.au/sony-65-inch-x...      KD65X9500H\n",
       "7    https://www.harveynorman.com.au/hisense-65-inc...            65S8\n",
       "8    https://www.harveynorman.com.au/lg-55-inch-nan...     55NANO80TNA\n",
       "9    https://www.harveynorman.com.au/hisense-75-inc...            75S8\n",
       "10   https://www.harveynorman.com.au/tcl-65-inch-c7...          65C715\n",
       "11   https://www.harveynorman.com.au/samsung-75-inc...   QA75Q60TAWXXY\n",
       "12   https://www.harveynorman.com.au/sony-55-inch-x...      KD55X8000H\n",
       "13   https://www.harveynorman.com.au/samsung-65-inc...  QA65LS03TAWXXY\n",
       "14   https://www.harveynorman.com.au/samsung-82-inc...  QA82Q800TAWXXY\n",
       "15   https://www.harveynorman.com.au/samsung-75-inc...  QA75Q800TAWXXY\n",
       "16   https://www.harveynorman.com.au/samsung-65-inc...  QA65Q800TAWXXY\n",
       "17   https://www.harveynorman.com.au/samsung-75-inc...   QA75Q95TAWXXY\n",
       "18   https://www.harveynorman.com.au/samsung-55-inc...   QA55Q95TAWXXY\n",
       "19   https://www.harveynorman.com.au/samsung-75-inc...   QA75Q80TAWXXY\n",
       "20   https://www.harveynorman.com.au/samsung-65-inc...   QA65Q80TAWXXY\n",
       "21   https://www.harveynorman.com.au/samsung-55-inc...   QA55Q80TAWXXY\n",
       "22   https://www.harveynorman.com.au/samsung-85-inc...   QA85Q70TAWXXY\n",
       "23   https://www.harveynorman.com.au/samsung-75-inc...   QA75Q70TAWXXY\n",
       "24   https://www.harveynorman.com.au/samsung-65-inc...   QA65Q70TAWXXY\n",
       "25   https://www.harveynorman.com.au/lg-55-inch-cx-...     OLED55CXPTA\n",
       "26   https://www.harveynorman.com.au/lg-65-inch-cx-...     OLED65CXPTA\n",
       "27   https://www.harveynorman.com.au/lg-77-inch-cx-...     OLED77CXPTA\n",
       "28   https://www.harveynorman.com.au/lg-65-inch-nan...     65NANO99TNA\n",
       "29   https://www.harveynorman.com.au/lg-75-inch-nan...     75NANO99TNA\n",
       "30   https://www.harveynorman.com.au/65-nanocell-10...     65NANO80TNA\n",
       "31   https://www.harveynorman.com.au/lg-65-inch-nan...     65NANO86TNA\n",
       "32   https://www.harveynorman.com.au/lg-65-inch-nan...     65NANO91TNA\n",
       "33   https://www.harveynorman.com.au/lg-75-inch-nan...     75NANO91TNA\n",
       "34   https://www.harveynorman.com.au/lg-65-inch-nan...     65NANO95TNA\n",
       "35   https://www.harveynorman.com.au/lg-75-inch-nan...     75NANO95TNA\n",
       "36   https://www.harveynorman.com.au/sony-75-inch-x...      KD75X9500H\n",
       "37   https://www.harveynorman.com.au/hisense-75-inc...            75Q8\n",
       "38   https://www.harveynorman.com.au/hisense-65-inc...            65Q8\n",
       "39   https://www.harveynorman.com.au/hisense-55-inc...            55Q8\n",
       "40   https://www.harveynorman.com.au/samsung-75-inc...  QA75LS03TAWXXY\n",
       "41   https://www.harveynorman.com.au/samsung-55-inc...  QA55LS03TAWXXY\n",
       "42   https://www.harveynorman.com.au/samsung-85-inc...  QA85Q950TSWXXY\n",
       "43   https://www.harveynorman.com.au/samsung-75-inc...  QA75Q950TSWXXY\n",
       "44   https://www.harveynorman.com.au/samsung-65-inc...  QA65Q950TSWXXY\n",
       "45   https://www.harveynorman.com.au/tcl-100-inch-p...         100P715\n",
       "46   https://www.harveynorman.com.au/disposable-3-p...        10001325\n",
       "47   https://www.harveynorman.com.au/jbl-t600btnc-w...         4151277\n",
       "48   https://www.harveynorman.com.au/noirot-2400w-s...          73588T\n",
       "49   https://www.harveynorman.com.au/dyson-cinetic-...        BBANIMAL\n",
       "50   https://www.harveynorman.com.au/beurer-fwm-45-...           FWM45\n",
       "51   https://www.harveynorman.com.au/homedics-ellia...   ARM-560CDA-AU\n",
       "52   https://www.harveynorman.com.au/sony-65-inch-x...      KD65X9500H\n",
       "53   https://www.harveynorman.com.au/hisense-65-inc...            65S8\n",
       "54   https://www.harveynorman.com.au/lg-55-inch-nan...     55NANO80TNA\n",
       "55   https://www.harveynorman.com.au/hisense-75-inc...            75S8\n",
       "56   https://www.harveynorman.com.au/tcl-65-inch-c7...          65C715\n",
       "57   https://www.harveynorman.com.au/samsung-75-inc...   QA75Q60TAWXXY\n",
       "58   https://www.harveynorman.com.au/sony-55-inch-x...      KD55X8000H\n",
       "59   https://www.harveynorman.com.au/samsung-65-inc...  QA65LS03TAWXXY\n",
       "60   https://www.harveynorman.com.au/samsung-82-inc...  QA82Q800TAWXXY\n",
       "61   https://www.harveynorman.com.au/samsung-75-inc...  QA75Q800TAWXXY\n",
       "62   https://www.harveynorman.com.au/samsung-65-inc...  QA65Q800TAWXXY\n",
       "63   https://www.harveynorman.com.au/samsung-75-inc...   QA75Q95TAWXXY\n",
       "64   https://www.harveynorman.com.au/samsung-55-inc...   QA55Q95TAWXXY\n",
       "65   https://www.harveynorman.com.au/samsung-75-inc...   QA75Q80TAWXXY\n",
       "66   https://www.harveynorman.com.au/samsung-65-inc...   QA65Q80TAWXXY\n",
       "67   https://www.harveynorman.com.au/samsung-55-inc...   QA55Q80TAWXXY\n",
       "68   https://www.harveynorman.com.au/samsung-85-inc...   QA85Q70TAWXXY\n",
       "69   https://www.harveynorman.com.au/samsung-75-inc...   QA75Q70TAWXXY\n",
       "70   https://www.harveynorman.com.au/samsung-65-inc...   QA65Q70TAWXXY\n",
       "71   https://www.harveynorman.com.au/lg-55-inch-cx-...     OLED55CXPTA\n",
       "72   https://www.harveynorman.com.au/lg-65-inch-cx-...     OLED65CXPTA\n",
       "73   https://www.harveynorman.com.au/lg-77-inch-cx-...     OLED77CXPTA\n",
       "74   https://www.harveynorman.com.au/lg-65-inch-nan...     65NANO99TNA\n",
       "75   https://www.harveynorman.com.au/lg-75-inch-nan...     75NANO99TNA\n",
       "76   https://www.harveynorman.com.au/65-nanocell-10...     65NANO80TNA\n",
       "77   https://www.harveynorman.com.au/lg-65-inch-nan...     65NANO86TNA\n",
       "78   https://www.harveynorman.com.au/lg-65-inch-nan...     65NANO91TNA\n",
       "79   https://www.harveynorman.com.au/lg-75-inch-nan...     75NANO91TNA\n",
       "80   https://www.harveynorman.com.au/lg-65-inch-nan...     65NANO95TNA\n",
       "81   https://www.harveynorman.com.au/lg-75-inch-nan...     75NANO95TNA\n",
       "82   https://www.harveynorman.com.au/sony-75-inch-x...      KD75X9500H\n",
       "83   https://www.harveynorman.com.au/hisense-75-inc...            75Q8\n",
       "84   https://www.harveynorman.com.au/hisense-65-inc...            65Q8\n",
       "85   https://www.harveynorman.com.au/hisense-55-inc...            55Q8\n",
       "86   https://www.harveynorman.com.au/samsung-75-inc...  QA75LS03TAWXXY\n",
       "87   https://www.harveynorman.com.au/samsung-55-inc...  QA55LS03TAWXXY\n",
       "88   https://www.harveynorman.com.au/samsung-85-inc...  QA85Q950TSWXXY\n",
       "89   https://www.harveynorman.com.au/samsung-75-inc...  QA75Q950TSWXXY\n",
       "90   https://www.harveynorman.com.au/samsung-65-inc...  QA65Q950TSWXXY\n",
       "91   https://www.harveynorman.com.au/tcl-100-inch-p...         100P715\n",
       "92   https://www.harveynorman.com.au/disposable-3-p...        10001325\n",
       "93   https://www.harveynorman.com.au/jbl-t600btnc-w...         4151277\n",
       "94   https://www.harveynorman.com.au/noirot-2400w-s...          73588T\n",
       "95   https://www.harveynorman.com.au/dyson-cinetic-...        BBANIMAL\n",
       "96   https://www.harveynorman.com.au/beurer-fwm-45-...           FWM45\n",
       "97   https://www.harveynorman.com.au/homedics-ellia...   ARM-560CDA-AU\n",
       "98   https://www.harveynorman.com.au/sony-65-inch-x...      KD65X9500H\n",
       "99   https://www.harveynorman.com.au/hisense-65-inc...            65S8\n",
       "100  https://www.harveynorman.com.au/lg-55-inch-nan...     55NANO80TNA\n",
       "101  https://www.harveynorman.com.au/hisense-75-inc...            75S8\n",
       "102  https://www.harveynorman.com.au/tcl-65-inch-c7...          65C715\n",
       "103  https://www.harveynorman.com.au/samsung-75-inc...   QA75Q60TAWXXY\n",
       "104  https://www.harveynorman.com.au/sony-55-inch-x...      KD55X8000H\n",
       "105  https://www.harveynorman.com.au/samsung-65-inc...  QA65LS03TAWXXY\n",
       "106  https://www.harveynorman.com.au/samsung-82-inc...  QA82Q800TAWXXY\n",
       "107  https://www.harveynorman.com.au/samsung-75-inc...  QA75Q800TAWXXY\n",
       "108  https://www.harveynorman.com.au/samsung-65-inc...  QA65Q800TAWXXY\n",
       "109  https://www.harveynorman.com.au/samsung-75-inc...   QA75Q95TAWXXY\n",
       "110  https://www.harveynorman.com.au/samsung-55-inc...   QA55Q95TAWXXY\n",
       "111  https://www.harveynorman.com.au/samsung-75-inc...   QA75Q80TAWXXY\n",
       "112  https://www.harveynorman.com.au/samsung-65-inc...   QA65Q80TAWXXY\n",
       "113  https://www.harveynorman.com.au/samsung-55-inc...   QA55Q80TAWXXY\n",
       "114  https://www.harveynorman.com.au/samsung-85-inc...   QA85Q70TAWXXY\n",
       "115  https://www.harveynorman.com.au/samsung-75-inc...   QA75Q70TAWXXY\n",
       "116  https://www.harveynorman.com.au/samsung-65-inc...   QA65Q70TAWXXY\n",
       "117  https://www.harveynorman.com.au/lg-55-inch-cx-...     OLED55CXPTA\n",
       "118  https://www.harveynorman.com.au/lg-65-inch-cx-...     OLED65CXPTA\n",
       "119  https://www.harveynorman.com.au/lg-77-inch-cx-...     OLED77CXPTA\n",
       "120  https://www.harveynorman.com.au/lg-65-inch-nan...     65NANO99TNA\n",
       "121  https://www.harveynorman.com.au/lg-75-inch-nan...     75NANO99TNA\n",
       "122  https://www.harveynorman.com.au/65-nanocell-10...     65NANO80TNA\n",
       "123  https://www.harveynorman.com.au/lg-65-inch-nan...     65NANO86TNA\n",
       "124  https://www.harveynorman.com.au/lg-65-inch-nan...     65NANO91TNA"
      ]
     },
     "execution_count": 16,
     "metadata": {},
     "output_type": "execute_result"
    }
   ],
   "source": [
    "pd.set_option('display.max_rows', None)\n",
    "df"
   ]
  },
  {
   "cell_type": "code",
   "execution_count": 35,
   "metadata": {},
   "outputs": [],
   "source": [
    "missing_10_itmes = [\"75NANO91TNA\", \"65NANO95TNA\",\"75NANO95TNA\",\"KD75X9500H\",\"75Q8\",\"65Q8\",\"55Q8\",\"QA75LS03TAWXXY\",\"QA55LS03TAWXXY\",\n",
    "                    \"QA85Q950TSWXXY\",\"QA75Q950TSWXXY\", \"QA65Q950TSWXXY\",\"100P715\"]\n"
   ]
  },
  {
   "cell_type": "code",
   "execution_count": 36,
   "metadata": {},
   "outputs": [],
   "source": [
    "Model = Model + missing_10_itmes\n"
   ]
  },
  {
   "cell_type": "code",
   "execution_count": 37,
   "metadata": {},
   "outputs": [
    {
     "data": {
      "text/plain": [
       "138"
      ]
     },
     "execution_count": 37,
     "metadata": {},
     "output_type": "execute_result"
    }
   ],
   "source": [
    "len(Model)"
   ]
  },
  {
   "cell_type": "code",
   "execution_count": null,
   "metadata": {},
   "outputs": [],
   "source": []
  }
 ],
 "metadata": {
  "kernelspec": {
   "display_name": "Python [conda env:PythonData] *",
   "language": "python",
   "name": "conda-env-PythonData-py"
  },
  "language_info": {
   "codemirror_mode": {
    "name": "ipython",
    "version": 3
   },
   "file_extension": ".py",
   "mimetype": "text/x-python",
   "name": "python",
   "nbconvert_exporter": "python",
   "pygments_lexer": "ipython3",
   "version": "3.7.6"
  }
 },
 "nbformat": 4,
 "nbformat_minor": 4
}
