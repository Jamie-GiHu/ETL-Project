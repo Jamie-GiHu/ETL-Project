{
 "cells": [
  {
   "cell_type": "markdown",
   "metadata": {},
   "source": [
    "# Code to extract TV info from Good Guys"
   ]
  },
  {
   "cell_type": "code",
   "execution_count": 1,
   "metadata": {},
   "outputs": [],
   "source": [
    "# Dependencies\n",
    "import requests\n",
    "from bs4 import BeautifulSoup as bs\n",
    "from time import sleep\n",
    "import pandas as pd\n",
    "from splinter import Browser\n",
    "from splinter.exceptions import ElementDoesNotExist\n",
    "from selenium.webdriver import ActionChains\n",
    "from webdriver_manager.chrome import ChromeDriverManager"
   ]
  },
  {
   "cell_type": "markdown",
   "metadata": {},
   "source": [
    "There are 136 televisions listed on the Good Guys website contained in 3 webpages (60 per page) so we will be using Splinter to help us automate through the pages"
   ]
  },
  {
   "cell_type": "code",
   "execution_count": 2,
   "metadata": {},
   "outputs": [
    {
     "name": "stderr",
     "output_type": "stream",
     "text": [
      "[WDM] - Current google-chrome version is 84.0.4147\n",
      "[WDM] - Get LATEST driver version for 84.0.4147\n"
     ]
    },
    {
     "name": "stdout",
     "output_type": "stream",
     "text": [
      " \n"
     ]
    },
    {
     "name": "stderr",
     "output_type": "stream",
     "text": [
      "[WDM] - Driver [C:\\Users\\foong\\.wdm\\drivers\\chromedriver\\win32\\84.0.4147.30\\chromedriver.exe] found in cache\n"
     ]
    }
   ],
   "source": [
    "executable_path = {'executable_path': ChromeDriverManager().install()}\n",
    "browser = Browser('chrome', **executable_path, headless=False)\n",
    "\n",
    "url = \"https://www.thegoodguys.com.au/televisions/all-tvs\"\n",
    "browser.visit(url)"
   ]
  },
  {
   "cell_type": "markdown",
   "metadata": {},
   "source": [
    "## Automate Browser Navigation"
   ]
  },
  {
   "cell_type": "code",
   "execution_count": 3,
   "metadata": {},
   "outputs": [],
   "source": [
    "# Create function to automate browser navigation\n",
    "\n",
    "def scroll_and_next(y):\n",
    "\n",
    "    # Ensuring the link is in view\n",
    "    browser.execute_script('window.scrollTo(0, 10000);')\n",
    "\n",
    "    # Find Next button and click to navigate to next page\n",
    "    browser.find_by_text(\"Next\").first.click()\n",
    "    \n",
    "    sleep(0.01)"
   ]
  },
  {
   "cell_type": "code",
   "execution_count": 6,
   "metadata": {},
   "outputs": [
    {
     "name": "stdout",
     "output_type": "stream",
     "text": [
      "There are 60 results on this page\n"
     ]
    }
   ],
   "source": [
    "# Create function to retrieve url page, create Beautiful Soup object, \n",
    "# parse and get results for loop.\n",
    "\n",
    "def get_results(page_no): \n",
    "    \n",
    "    # Create a Beautiful Soup object; parse with 'html.parser'\n",
    "    soup = bs(browser.html, \"html.parser\")\n",
    "\n",
    "    # results are returned as an iterable list\n",
    "    results = soup.select(\"#product_listing_tab\")[0].find_all(\"li\")\n",
    "    \n",
    "    return results\n",
    "      \n",
    "# Example: to find the Product Category for the first result\n",
    "print(f\"There are {len(get_results(1))} results on this page\")"
   ]
  },
  {
   "cell_type": "code",
   "execution_count": null,
   "metadata": {},
   "outputs": [],
   "source": [
    "# Create function to retrieve url page, create Beautiful Soup object, \n",
    "# parse and get results for loop.\n",
    "\n",
    "def get_results(page_no): \n",
    "\n",
    "    # Retrieve page with the requests module\n",
    "    response = requests.get(urls[page_no])\n",
    "\n",
    "    # Create a Beautiful Soup object; parse with 'html.parser'\n",
    "    soup = bs(response.text, \"html.parser\")\n",
    "\n",
    "    # results are returned as an iterable list\n",
    "    results = soup.select(\"#product_listing_tab\")[0].find_all(\"li\")\n",
    "    \n",
    "    return results\n",
    "      \n",
    "# Example: to find the Product Category for the first result\n",
    "print(f\"There are {len(get_results(1))} results on this page\")"
   ]
  },
  {
   "cell_type": "code",
   "execution_count": 35,
   "metadata": {},
   "outputs": [],
   "source": [
    "scroll_and_next(2)"
   ]
  },
  {
   "cell_type": "code",
   "execution_count": 36,
   "metadata": {},
   "outputs": [],
   "source": [
    "results = get_results(3)"
   ]
  },
  {
   "cell_type": "code",
   "execution_count": 37,
   "metadata": {},
   "outputs": [
    {
     "data": {
      "text/plain": [
       "16"
      ]
     },
     "execution_count": 37,
     "metadata": {},
     "output_type": "execute_result"
    }
   ],
   "source": [
    "len(results)"
   ]
  },
  {
   "cell_type": "markdown",
   "metadata": {},
   "source": [
    "## Find Product Category"
   ]
  },
  {
   "cell_type": "code",
   "execution_count": 10,
   "metadata": {},
   "outputs": [
    {
     "name": "stdout",
     "output_type": "stream",
     "text": [
      "Televisions\n"
     ]
    }
   ],
   "source": [
    "# Create function to get product category for loop\n",
    "\n",
    "def category_finder(x):\n",
    "    onclick = results[x].a[\"onclick\"]\n",
    "    start = onclick.rfind(\"Product Category L1 :\") + len(\"Product Category L1 :\")\n",
    "    end = onclick.rfind(\"','TGGCATLPEventAction':'Product Category L2 :\")\n",
    "    category = onclick[start:end]\n",
    "    return category\n",
    "\n",
    "# Example: to find the Product Category for the first result\n",
    "print(category_finder(0))"
   ]
  },
  {
   "cell_type": "markdown",
   "metadata": {},
   "source": [
    "## Find Currency Code"
   ]
  },
  {
   "cell_type": "code",
   "execution_count": 11,
   "metadata": {},
   "outputs": [
    {
     "name": "stdout",
     "output_type": "stream",
     "text": [
      "AUD\n"
     ]
    }
   ],
   "source": [
    "# Create function to get currency code for loop\n",
    "\n",
    "def currency_finder(x):\n",
    "    scripts = results[x].script.find_next(\"script\").string\n",
    "    start = scripts.rfind(\"currencyCode\")+len(\"currencyCode\")+4\n",
    "    end = start + 3\n",
    "    currency = scripts[start:end]\n",
    "    return currency\n",
    "\n",
    "# Example: to find the Currency Code for the first result\n",
    "print(currency_finder(0))"
   ]
  },
  {
   "cell_type": "markdown",
   "metadata": {},
   "source": [
    "## Find Brand"
   ]
  },
  {
   "cell_type": "code",
   "execution_count": 12,
   "metadata": {},
   "outputs": [
    {
     "name": "stdout",
     "output_type": "stream",
     "text": [
      "Sony\n"
     ]
    }
   ],
   "source": [
    "# Create function to get brand for loop\n",
    "\n",
    "def brand_finder(x):\n",
    "    brand = results[x].select('input[type=\"hidden\"]')[3][\"value\"]\n",
    "    return brand\n",
    "\n",
    "# Example: to find the Brand for the first result\n",
    "print(brand_finder(0))"
   ]
  },
  {
   "cell_type": "markdown",
   "metadata": {},
   "source": [
    "## Find Model Number"
   ]
  },
  {
   "cell_type": "code",
   "execution_count": 13,
   "metadata": {},
   "outputs": [
    {
     "name": "stdout",
     "output_type": "stream",
     "text": [
      "KDL32W660E\n"
     ]
    }
   ],
   "source": [
    "# Create function to get model number for loop\n",
    "\n",
    "def model_finder(x):\n",
    "    model = results[x].find(\"div\", class_=\"product-tile-model\").text\n",
    "    return model\n",
    "\n",
    "# Example: to find the Model Number for the first result\n",
    "print(model_finder(0))"
   ]
  },
  {
   "cell_type": "markdown",
   "metadata": {},
   "source": [
    "## Find Name"
   ]
  },
  {
   "cell_type": "code",
   "execution_count": 14,
   "metadata": {},
   "outputs": [
    {
     "name": "stdout",
     "output_type": "stream",
     "text": [
      "Sony 32\"(81cm) FHD LED LCD Smart TV\n"
     ]
    }
   ],
   "source": [
    "# Create function to get name for loop\n",
    "\n",
    "def name_finder(x):\n",
    "    brand = results[x].select('input[type=\"hidden\"]')[3][\"value\"]\n",
    "    name = results[x].select('input[type=\"hidden\"]')[4][\"value\"]\n",
    "    return brand + \" \" + name\n",
    "\n",
    "# Example: to find the Product Name for the first result\n",
    "print(name_finder(0))"
   ]
  },
  {
   "cell_type": "markdown",
   "metadata": {},
   "source": [
    "## Find Screen Size"
   ]
  },
  {
   "cell_type": "code",
   "execution_count": 15,
   "metadata": {},
   "outputs": [
    {
     "name": "stdout",
     "output_type": "stream",
     "text": [
      "32\"(81cm)\n"
     ]
    }
   ],
   "source": [
    "# Create function to get screen size for loop\n",
    "\n",
    "def size_finder(x):\n",
    "    name = results[x].select('input[type=\"hidden\"]')[4][\"value\"]\n",
    "    size = name.split()[0]\n",
    "    return size\n",
    "\n",
    "# Example: to find the Screen Size for the first result\n",
    "print(size_finder(0))"
   ]
  },
  {
   "cell_type": "markdown",
   "metadata": {},
   "source": [
    "## Find Price"
   ]
  },
  {
   "cell_type": "code",
   "execution_count": 16,
   "metadata": {},
   "outputs": [
    {
     "name": "stdout",
     "output_type": "stream",
     "text": [
      "$595.00\n"
     ]
    }
   ],
   "source": [
    "# Create function to get price for loop\n",
    "\n",
    "def price_finder(x):\n",
    "    price = results[x].select('input[type=\"hidden\"]')[5][\"value\"]\n",
    "    return price\n",
    "\n",
    "# Example: to find the Price for the first result\n",
    "print(price_finder(0))"
   ]
  },
  {
   "cell_type": "markdown",
   "metadata": {},
   "source": [
    "## Find Link to Product Image"
   ]
  },
  {
   "cell_type": "code",
   "execution_count": 17,
   "metadata": {},
   "outputs": [
    {
     "name": "stdout",
     "output_type": "stream",
     "text": [
      "//thegoodguys.sirv.com/products/50048259/50048259_511653.PNG?scale.height=215&scale.width=215&canvas.height=215&canvas.width=215&canvas.opacity=0\n"
     ]
    }
   ],
   "source": [
    "# Create function to get image link for loop\n",
    "\n",
    "def image_finder(x):\n",
    "    image = results[x].img[\"data-src\"]\n",
    "    return image\n",
    "\n",
    "# Example: to find the link to Product Image for the first result\n",
    "print(image_finder(0))"
   ]
  },
  {
   "cell_type": "markdown",
   "metadata": {},
   "source": [
    "## The Loop"
   ]
  },
  {
   "cell_type": "code",
   "execution_count": 18,
   "metadata": {},
   "outputs": [],
   "source": [
    "# Create lists to hold values\n",
    "\n",
    "categories = list()\n",
    "currencies = list()\n",
    "brands = list()\n",
    "models = list()\n",
    "names = list()\n",
    "sizes = list()\n",
    "prices = list()\n",
    "images = list()"
   ]
  },
  {
   "cell_type": "code",
   "execution_count": 38,
   "metadata": {},
   "outputs": [
    {
     "name": "stdout",
     "output_type": "stream",
     "text": [
      "Price not available:  Sony 65\" A8H 4K UHD ANDROID BRAVIA OLED TV\n",
      "Price not available:  Sony 55\" A8H 4K UHD ANDROID BRAVIA OLED TV\n",
      "Price not available:  Hisense 24\"(60cm) HD LED LCD TV\n"
     ]
    }
   ],
   "source": [
    "# Loop through first set of returned results\n",
    "\n",
    "x = 0\n",
    "\n",
    "for x in range(len(results)):\n",
    "    \n",
    "    try:\n",
    "        \n",
    "        category = category_finder(x)\n",
    "        currency = currency_finder(x)\n",
    "        brand = brand_finder(x)\n",
    "        model = model_finder(x)\n",
    "        name = name_finder(x)\n",
    "        size = size_finder(x)\n",
    "        price = price_finder(x)\n",
    "        image = image_finder(x)\n",
    "        \n",
    "        if (category and currency and brand and model and name and size and price and image):\n",
    "            \n",
    "                    categories.append(category)\n",
    "                    currencies.append(currency)\n",
    "                    brands.append(brand)\n",
    "                    models.append(model)\n",
    "                    names.append(name)\n",
    "                    sizes.append(size)\n",
    "                    prices.append(price)\n",
    "                    images.append(image)\n",
    "                    \n",
    "    except:\n",
    "        print(\"Price not available: \",name_finder(x))\n",
    "            \n",
    "    x += 1"
   ]
  },
  {
   "cell_type": "code",
   "execution_count": 39,
   "metadata": {},
   "outputs": [
    {
     "name": "stdout",
     "output_type": "stream",
     "text": [
      "131\n",
      "131\n",
      "131\n",
      "131\n",
      "131\n",
      "131\n",
      "131\n"
     ]
    }
   ],
   "source": [
    "# Check number of results - site lists 136 products in total\n",
    "\n",
    "print(len(categories))\n",
    "print(len(currencies))\n",
    "print(len(brands))\n",
    "print(len(names))\n",
    "print(len(sizes))\n",
    "print(len(prices))\n",
    "print(len(images))"
   ]
  },
  {
   "cell_type": "code",
   "execution_count": 21,
   "metadata": {},
   "outputs": [
    {
     "data": {
      "text/plain": [
       "60"
      ]
     },
     "execution_count": 21,
     "metadata": {},
     "output_type": "execute_result"
    }
   ],
   "source": [
    "len(results)"
   ]
  },
  {
   "cell_type": "code",
   "execution_count": 22,
   "metadata": {},
   "outputs": [
    {
     "name": "stdout",
     "output_type": "stream",
     "text": [
      "Sony 32\"(81cm) FHD LED LCD Smart TV\n",
      "Sony 49\" X8000H 4K UHD ANDROID BRAVIA LED TV\n"
     ]
    }
   ],
   "source": [
    "print(names[0])\n",
    "print(names[57])"
   ]
  },
  {
   "cell_type": "code",
   "execution_count": 32,
   "metadata": {},
   "outputs": [
    {
     "name": "stdout",
     "output_type": "stream",
     "text": [
      "Sony 55\" X8000H 4K UHD ANDROID BRAVIA LED TV\n",
      "Hisense 85\" Q8 4K UHD SMART ULED TV\n"
     ]
    }
   ],
   "source": [
    "print(names[58])\n",
    "print(names[117])"
   ]
  },
  {
   "cell_type": "code",
   "execution_count": 40,
   "metadata": {},
   "outputs": [
    {
     "name": "stdout",
     "output_type": "stream",
     "text": [
      "TCL 40\" S615 FHD ANDROID LED TV\n",
      "TCL 65\" P615 4K UHD ANDROID LED TV\n"
     ]
    }
   ],
   "source": [
    "print(names[118])\n",
    "print(names[130])"
   ]
  },
  {
   "cell_type": "code",
   "execution_count": 41,
   "metadata": {},
   "outputs": [
    {
     "data": {
      "text/html": [
       "<div>\n",
       "<style scoped>\n",
       "    .dataframe tbody tr th:only-of-type {\n",
       "        vertical-align: middle;\n",
       "    }\n",
       "\n",
       "    .dataframe tbody tr th {\n",
       "        vertical-align: top;\n",
       "    }\n",
       "\n",
       "    .dataframe thead th {\n",
       "        text-align: right;\n",
       "    }\n",
       "</style>\n",
       "<table border=\"1\" class=\"dataframe\">\n",
       "  <thead>\n",
       "    <tr style=\"text-align: right;\">\n",
       "      <th></th>\n",
       "      <th>retailer</th>\n",
       "      <th>category</th>\n",
       "      <th>currency</th>\n",
       "      <th>brand</th>\n",
       "      <th>model</th>\n",
       "      <th>name</th>\n",
       "      <th>size</th>\n",
       "      <th>price</th>\n",
       "      <th>image</th>\n",
       "    </tr>\n",
       "  </thead>\n",
       "  <tbody>\n",
       "    <tr>\n",
       "      <th>0</th>\n",
       "      <td>Good Guys</td>\n",
       "      <td>Televisions</td>\n",
       "      <td>AUD</td>\n",
       "      <td>Sony</td>\n",
       "      <td>KDL32W660E</td>\n",
       "      <td>Sony 32\"(81cm) FHD LED LCD Smart TV</td>\n",
       "      <td>32\"(81cm)</td>\n",
       "      <td>$595.00</td>\n",
       "      <td>//thegoodguys.sirv.com/products/50048259/50048...</td>\n",
       "    </tr>\n",
       "    <tr>\n",
       "      <th>1</th>\n",
       "      <td>Good Guys</td>\n",
       "      <td>Televisions</td>\n",
       "      <td>AUD</td>\n",
       "      <td>TCL</td>\n",
       "      <td>40D3000F</td>\n",
       "      <td>TCL 40\"(101cm) FHD LED LCD TV</td>\n",
       "      <td>40\"(101cm)</td>\n",
       "      <td>$445.00</td>\n",
       "      <td>//thegoodguys.sirv.com/products/50052593/50052...</td>\n",
       "    </tr>\n",
       "    <tr>\n",
       "      <th>2</th>\n",
       "      <td>Good Guys</td>\n",
       "      <td>Televisions</td>\n",
       "      <td>AUD</td>\n",
       "      <td>Hitachi</td>\n",
       "      <td>32HDSM8</td>\n",
       "      <td>Hitachi 32\" HD Smart LED TV</td>\n",
       "      <td>32\"</td>\n",
       "      <td>$299.00</td>\n",
       "      <td>//thegoodguys.sirv.com/products/50064547/50064...</td>\n",
       "    </tr>\n",
       "    <tr>\n",
       "      <th>3</th>\n",
       "      <td>Good Guys</td>\n",
       "      <td>Televisions</td>\n",
       "      <td>AUD</td>\n",
       "      <td>Hitachi</td>\n",
       "      <td>65UHDSM8</td>\n",
       "      <td>Hitachi 65\" UHD Smart LED TV</td>\n",
       "      <td>65\"</td>\n",
       "      <td>$999.00</td>\n",
       "      <td>//thegoodguys.sirv.com/products/50064544/50064...</td>\n",
       "    </tr>\n",
       "    <tr>\n",
       "      <th>4</th>\n",
       "      <td>Good Guys</td>\n",
       "      <td>Televisions</td>\n",
       "      <td>AUD</td>\n",
       "      <td>Hitachi</td>\n",
       "      <td>55UHDSM8</td>\n",
       "      <td>Hitachi 55\"(140cm) UHD HDR LED LCD Smart TV</td>\n",
       "      <td>55\"(140cm)</td>\n",
       "      <td>$695.00</td>\n",
       "      <td>//thegoodguys.sirv.com/products/50063085/50063...</td>\n",
       "    </tr>\n",
       "    <tr>\n",
       "      <th>...</th>\n",
       "      <td>...</td>\n",
       "      <td>...</td>\n",
       "      <td>...</td>\n",
       "      <td>...</td>\n",
       "      <td>...</td>\n",
       "      <td>...</td>\n",
       "      <td>...</td>\n",
       "      <td>...</td>\n",
       "      <td>...</td>\n",
       "    </tr>\n",
       "    <tr>\n",
       "      <th>126</th>\n",
       "      <td>Good Guys</td>\n",
       "      <td>Televisions</td>\n",
       "      <td>AUD</td>\n",
       "      <td>Hitachi</td>\n",
       "      <td>50QLEDSM20</td>\n",
       "      <td>Hitachi 50\" SM20 4K UHD ANDROID QLED TV</td>\n",
       "      <td>50\"</td>\n",
       "      <td>$899.00</td>\n",
       "      <td>//thegoodguys.sirv.com/products/50071408/50071...</td>\n",
       "    </tr>\n",
       "    <tr>\n",
       "      <th>127</th>\n",
       "      <td>Good Guys</td>\n",
       "      <td>Televisions</td>\n",
       "      <td>AUD</td>\n",
       "      <td>Hitachi</td>\n",
       "      <td>55QLEDSM20</td>\n",
       "      <td>Hitachi 55\" SM20 4K UHD ANDROID QLED TV</td>\n",
       "      <td>55\"</td>\n",
       "      <td>$1099.00</td>\n",
       "      <td>//thegoodguys.sirv.com/products/50071409/50071...</td>\n",
       "    </tr>\n",
       "    <tr>\n",
       "      <th>128</th>\n",
       "      <td>Good Guys</td>\n",
       "      <td>Televisions</td>\n",
       "      <td>AUD</td>\n",
       "      <td>Hitachi</td>\n",
       "      <td>65QLEDSM20</td>\n",
       "      <td>Hitachi 65\" SM20 4K UHD ANDROID QLED TV</td>\n",
       "      <td>65\"</td>\n",
       "      <td>$1499.00</td>\n",
       "      <td>//thegoodguys.sirv.com/products/50071410/50071...</td>\n",
       "    </tr>\n",
       "    <tr>\n",
       "      <th>129</th>\n",
       "      <td>Good Guys</td>\n",
       "      <td>Televisions</td>\n",
       "      <td>AUD</td>\n",
       "      <td>Samsung</td>\n",
       "      <td>QA32LS03TBWXXY</td>\n",
       "      <td>Samsung 32\" LS03T 4K UHD SMART FRAME QLED TV</td>\n",
       "      <td>32\"</td>\n",
       "      <td>$915.00</td>\n",
       "      <td>//thegoodguys.sirv.com/products/50072034/50072...</td>\n",
       "    </tr>\n",
       "    <tr>\n",
       "      <th>130</th>\n",
       "      <td>Good Guys</td>\n",
       "      <td>Televisions</td>\n",
       "      <td>AUD</td>\n",
       "      <td>TCL</td>\n",
       "      <td>65P615</td>\n",
       "      <td>TCL 65\" P615 4K UHD ANDROID LED TV</td>\n",
       "      <td>65\"</td>\n",
       "      <td>$995.00</td>\n",
       "      <td>//thegoodguys.sirv.com/products/50071986/50071...</td>\n",
       "    </tr>\n",
       "  </tbody>\n",
       "</table>\n",
       "<p>131 rows × 9 columns</p>\n",
       "</div>"
      ],
      "text/plain": [
       "      retailer     category currency    brand           model  \\\n",
       "0    Good Guys  Televisions      AUD     Sony      KDL32W660E   \n",
       "1    Good Guys  Televisions      AUD      TCL        40D3000F   \n",
       "2    Good Guys  Televisions      AUD  Hitachi         32HDSM8   \n",
       "3    Good Guys  Televisions      AUD  Hitachi        65UHDSM8   \n",
       "4    Good Guys  Televisions      AUD  Hitachi        55UHDSM8   \n",
       "..         ...          ...      ...      ...             ...   \n",
       "126  Good Guys  Televisions      AUD  Hitachi      50QLEDSM20   \n",
       "127  Good Guys  Televisions      AUD  Hitachi      55QLEDSM20   \n",
       "128  Good Guys  Televisions      AUD  Hitachi      65QLEDSM20   \n",
       "129  Good Guys  Televisions      AUD  Samsung  QA32LS03TBWXXY   \n",
       "130  Good Guys  Televisions      AUD      TCL          65P615   \n",
       "\n",
       "                                             name        size     price  \\\n",
       "0             Sony 32\"(81cm) FHD LED LCD Smart TV   32\"(81cm)   $595.00   \n",
       "1                   TCL 40\"(101cm) FHD LED LCD TV  40\"(101cm)   $445.00   \n",
       "2                     Hitachi 32\" HD Smart LED TV         32\"   $299.00   \n",
       "3                    Hitachi 65\" UHD Smart LED TV         65\"   $999.00   \n",
       "4     Hitachi 55\"(140cm) UHD HDR LED LCD Smart TV  55\"(140cm)   $695.00   \n",
       "..                                            ...         ...       ...   \n",
       "126       Hitachi 50\" SM20 4K UHD ANDROID QLED TV         50\"   $899.00   \n",
       "127       Hitachi 55\" SM20 4K UHD ANDROID QLED TV         55\"  $1099.00   \n",
       "128       Hitachi 65\" SM20 4K UHD ANDROID QLED TV         65\"  $1499.00   \n",
       "129  Samsung 32\" LS03T 4K UHD SMART FRAME QLED TV         32\"   $915.00   \n",
       "130            TCL 65\" P615 4K UHD ANDROID LED TV         65\"   $995.00   \n",
       "\n",
       "                                                 image  \n",
       "0    //thegoodguys.sirv.com/products/50048259/50048...  \n",
       "1    //thegoodguys.sirv.com/products/50052593/50052...  \n",
       "2    //thegoodguys.sirv.com/products/50064547/50064...  \n",
       "3    //thegoodguys.sirv.com/products/50064544/50064...  \n",
       "4    //thegoodguys.sirv.com/products/50063085/50063...  \n",
       "..                                                 ...  \n",
       "126  //thegoodguys.sirv.com/products/50071408/50071...  \n",
       "127  //thegoodguys.sirv.com/products/50071409/50071...  \n",
       "128  //thegoodguys.sirv.com/products/50071410/50071...  \n",
       "129  //thegoodguys.sirv.com/products/50072034/50072...  \n",
       "130  //thegoodguys.sirv.com/products/50071986/50071...  \n",
       "\n",
       "[131 rows x 9 columns]"
      ]
     },
     "execution_count": 41,
     "metadata": {},
     "output_type": "execute_result"
    }
   ],
   "source": [
    "import pandas as pd\n",
    "\n",
    "df = pd.DataFrame({\n",
    "        \"retailer\": \"Good Guys\",\n",
    "        \"category\": \"Televisions\",\n",
    "        \"currency\": currencies,\n",
    "        \"brand\": brands,\n",
    "        \"model\": models,\n",
    "        \"name\": names,\n",
    "        \"size\": sizes,\n",
    "        \"price\": prices,\n",
    "        \"image\": images\n",
    "})\n",
    "\n",
    "df"
   ]
  },
  {
   "cell_type": "code",
   "execution_count": 42,
   "metadata": {},
   "outputs": [
    {
     "data": {
      "text/html": [
       "<div>\n",
       "<style scoped>\n",
       "    .dataframe tbody tr th:only-of-type {\n",
       "        vertical-align: middle;\n",
       "    }\n",
       "\n",
       "    .dataframe tbody tr th {\n",
       "        vertical-align: top;\n",
       "    }\n",
       "\n",
       "    .dataframe thead th {\n",
       "        text-align: right;\n",
       "    }\n",
       "</style>\n",
       "<table border=\"1\" class=\"dataframe\">\n",
       "  <thead>\n",
       "    <tr style=\"text-align: right;\">\n",
       "      <th></th>\n",
       "      <th>retailer</th>\n",
       "      <th>category</th>\n",
       "      <th>currency</th>\n",
       "      <th>brand</th>\n",
       "      <th>model</th>\n",
       "      <th>name</th>\n",
       "      <th>size</th>\n",
       "      <th>price</th>\n",
       "      <th>image</th>\n",
       "    </tr>\n",
       "  </thead>\n",
       "  <tbody>\n",
       "    <tr>\n",
       "      <th>count</th>\n",
       "      <td>131</td>\n",
       "      <td>131</td>\n",
       "      <td>131</td>\n",
       "      <td>131</td>\n",
       "      <td>131</td>\n",
       "      <td>131</td>\n",
       "      <td>131</td>\n",
       "      <td>131</td>\n",
       "      <td>131</td>\n",
       "    </tr>\n",
       "    <tr>\n",
       "      <th>unique</th>\n",
       "      <td>1</td>\n",
       "      <td>1</td>\n",
       "      <td>1</td>\n",
       "      <td>11</td>\n",
       "      <td>131</td>\n",
       "      <td>131</td>\n",
       "      <td>21</td>\n",
       "      <td>68</td>\n",
       "      <td>131</td>\n",
       "    </tr>\n",
       "    <tr>\n",
       "      <th>top</th>\n",
       "      <td>Good Guys</td>\n",
       "      <td>Televisions</td>\n",
       "      <td>AUD</td>\n",
       "      <td>Samsung</td>\n",
       "      <td>OLED55BXPTA</td>\n",
       "      <td>Samsung 75\" Q70T 4K UHD SMART QLED TV</td>\n",
       "      <td>65\"</td>\n",
       "      <td>$4495.00</td>\n",
       "      <td>//thegoodguys.sirv.com/products/50071569/50071...</td>\n",
       "    </tr>\n",
       "    <tr>\n",
       "      <th>freq</th>\n",
       "      <td>131</td>\n",
       "      <td>131</td>\n",
       "      <td>131</td>\n",
       "      <td>40</td>\n",
       "      <td>1</td>\n",
       "      <td>1</td>\n",
       "      <td>29</td>\n",
       "      <td>5</td>\n",
       "      <td>1</td>\n",
       "    </tr>\n",
       "  </tbody>\n",
       "</table>\n",
       "</div>"
      ],
      "text/plain": [
       "         retailer     category currency    brand        model  \\\n",
       "count         131          131      131      131          131   \n",
       "unique          1            1        1       11          131   \n",
       "top     Good Guys  Televisions      AUD  Samsung  OLED55BXPTA   \n",
       "freq          131          131      131       40            1   \n",
       "\n",
       "                                         name size     price  \\\n",
       "count                                     131  131       131   \n",
       "unique                                    131   21        68   \n",
       "top     Samsung 75\" Q70T 4K UHD SMART QLED TV  65\"  $4495.00   \n",
       "freq                                        1   29         5   \n",
       "\n",
       "                                                    image  \n",
       "count                                                 131  \n",
       "unique                                                131  \n",
       "top     //thegoodguys.sirv.com/products/50071569/50071...  \n",
       "freq                                                    1  "
      ]
     },
     "execution_count": 42,
     "metadata": {},
     "output_type": "execute_result"
    }
   ],
   "source": [
    "df.describe()"
   ]
  },
  {
   "cell_type": "code",
   "execution_count": 43,
   "metadata": {},
   "outputs": [
    {
     "data": {
      "text/html": [
       "<div>\n",
       "<style scoped>\n",
       "    .dataframe tbody tr th:only-of-type {\n",
       "        vertical-align: middle;\n",
       "    }\n",
       "\n",
       "    .dataframe tbody tr th {\n",
       "        vertical-align: top;\n",
       "    }\n",
       "\n",
       "    .dataframe thead th {\n",
       "        text-align: right;\n",
       "    }\n",
       "</style>\n",
       "<table border=\"1\" class=\"dataframe\">\n",
       "  <thead>\n",
       "    <tr style=\"text-align: right;\">\n",
       "      <th></th>\n",
       "      <th>retailer</th>\n",
       "      <th>category</th>\n",
       "      <th>currency</th>\n",
       "      <th>brand</th>\n",
       "      <th>model</th>\n",
       "      <th>name</th>\n",
       "      <th>size</th>\n",
       "      <th>price</th>\n",
       "      <th>image</th>\n",
       "    </tr>\n",
       "  </thead>\n",
       "  <tbody>\n",
       "  </tbody>\n",
       "</table>\n",
       "</div>"
      ],
      "text/plain": [
       "Empty DataFrame\n",
       "Columns: [retailer, category, currency, brand, model, name, size, price, image]\n",
       "Index: []"
      ]
     },
     "execution_count": 43,
     "metadata": {},
     "output_type": "execute_result"
    }
   ],
   "source": [
    "df[df.duplicated()] # Page not refreshing when input new URL - need to fix"
   ]
  },
  {
   "cell_type": "code",
   "execution_count": 44,
   "metadata": {},
   "outputs": [],
   "source": [
    "df.to_csv(\"output/good_guys.csv\")"
   ]
  },
  {
   "cell_type": "code",
   "execution_count": null,
   "metadata": {},
   "outputs": [],
   "source": []
  },
  {
   "cell_type": "code",
   "execution_count": null,
   "metadata": {},
   "outputs": [],
   "source": []
  }
 ],
 "metadata": {
  "kernelspec": {
   "display_name": "Python [conda env:PythonData]",
   "language": "python",
   "name": "conda-env-PythonData-py"
  },
  "language_info": {
   "codemirror_mode": {
    "name": "ipython",
    "version": 3
   },
   "file_extension": ".py",
   "mimetype": "text/x-python",
   "name": "python",
   "nbconvert_exporter": "python",
   "pygments_lexer": "ipython3",
   "version": "3.6.10"
  }
 },
 "nbformat": 4,
 "nbformat_minor": 4
}
